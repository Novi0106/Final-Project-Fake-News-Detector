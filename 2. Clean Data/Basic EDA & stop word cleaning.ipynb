{
 "cells": [
  {
   "cell_type": "code",
   "execution_count": 1,
   "id": "ce2dbf04",
   "metadata": {},
   "outputs": [],
   "source": [
    "import pandas as pd\n",
    "import seaborn as sns\n",
    "import matplotlib.pyplot as plt"
   ]
  },
  {
   "cell_type": "code",
   "execution_count": 9,
   "id": "720aa1bc",
   "metadata": {},
   "outputs": [
    {
     "name": "stdout",
     "output_type": "stream",
     "text": [
      "EDA.ipynb            fake_ger_news_2.csv  real_ger_news_1.csv\r\n",
      "english_data.csv     politifact_fake.txt  real_ger_news_2.csv\r\n",
      "fake_ger_news_1.csv  politifact_real.txt  real_ger_news_3.csv\r\n"
     ]
    }
   ],
   "source": [
    "ls"
   ]
  },
  {
   "cell_type": "markdown",
   "id": "e00ac8ff",
   "metadata": {},
   "source": [
    "### Clean the english news data set"
   ]
  },
  {
   "cell_type": "code",
   "execution_count": 112,
   "id": "0243dc4c",
   "metadata": {},
   "outputs": [],
   "source": [
    "df = pd.read_csv(\"english_data.csv\")"
   ]
  },
  {
   "cell_type": "code",
   "execution_count": 113,
   "id": "187fb065",
   "metadata": {},
   "outputs": [
    {
     "data": {
      "text/html": [
       "<div>\n",
       "<style scoped>\n",
       "    .dataframe tbody tr th:only-of-type {\n",
       "        vertical-align: middle;\n",
       "    }\n",
       "\n",
       "    .dataframe tbody tr th {\n",
       "        vertical-align: top;\n",
       "    }\n",
       "\n",
       "    .dataframe thead th {\n",
       "        text-align: right;\n",
       "    }\n",
       "</style>\n",
       "<table border=\"1\" class=\"dataframe\">\n",
       "  <thead>\n",
       "    <tr style=\"text-align: right;\">\n",
       "      <th></th>\n",
       "      <th>URLs</th>\n",
       "      <th>Headline</th>\n",
       "      <th>Body</th>\n",
       "      <th>Label</th>\n",
       "    </tr>\n",
       "  </thead>\n",
       "  <tbody>\n",
       "    <tr>\n",
       "      <th>0</th>\n",
       "      <td>http://www.bbc.com/news/world-us-canada-414191...</td>\n",
       "      <td>Four ways Bob Corker skewered Donald Trump</td>\n",
       "      <td>Image copyright Getty Images\\nOn Sunday mornin...</td>\n",
       "      <td>1</td>\n",
       "    </tr>\n",
       "    <tr>\n",
       "      <th>1</th>\n",
       "      <td>https://www.reuters.com/article/us-filmfestiva...</td>\n",
       "      <td>Linklater's war veteran comedy speaks to moder...</td>\n",
       "      <td>LONDON (Reuters) - “Last Flag Flying”, a comed...</td>\n",
       "      <td>1</td>\n",
       "    </tr>\n",
       "    <tr>\n",
       "      <th>2</th>\n",
       "      <td>https://www.nytimes.com/2017/10/09/us/politics...</td>\n",
       "      <td>Trump’s Fight With Corker Jeopardizes His Legi...</td>\n",
       "      <td>The feud broke into public view last week when...</td>\n",
       "      <td>1</td>\n",
       "    </tr>\n",
       "    <tr>\n",
       "      <th>3</th>\n",
       "      <td>https://www.reuters.com/article/us-mexico-oil-...</td>\n",
       "      <td>Egypt's Cheiron wins tie-up with Pemex for Mex...</td>\n",
       "      <td>MEXICO CITY (Reuters) - Egypt’s Cheiron Holdin...</td>\n",
       "      <td>1</td>\n",
       "    </tr>\n",
       "    <tr>\n",
       "      <th>4</th>\n",
       "      <td>http://www.cnn.com/videos/cnnmoney/2017/10/08/...</td>\n",
       "      <td>Jason Aldean opens 'SNL' with Vegas tribute</td>\n",
       "      <td>Country singer Jason Aldean, who was performin...</td>\n",
       "      <td>1</td>\n",
       "    </tr>\n",
       "  </tbody>\n",
       "</table>\n",
       "</div>"
      ],
      "text/plain": [
       "                                                URLs  \\\n",
       "0  http://www.bbc.com/news/world-us-canada-414191...   \n",
       "1  https://www.reuters.com/article/us-filmfestiva...   \n",
       "2  https://www.nytimes.com/2017/10/09/us/politics...   \n",
       "3  https://www.reuters.com/article/us-mexico-oil-...   \n",
       "4  http://www.cnn.com/videos/cnnmoney/2017/10/08/...   \n",
       "\n",
       "                                            Headline  \\\n",
       "0         Four ways Bob Corker skewered Donald Trump   \n",
       "1  Linklater's war veteran comedy speaks to moder...   \n",
       "2  Trump’s Fight With Corker Jeopardizes His Legi...   \n",
       "3  Egypt's Cheiron wins tie-up with Pemex for Mex...   \n",
       "4        Jason Aldean opens 'SNL' with Vegas tribute   \n",
       "\n",
       "                                                Body  Label  \n",
       "0  Image copyright Getty Images\\nOn Sunday mornin...      1  \n",
       "1  LONDON (Reuters) - “Last Flag Flying”, a comed...      1  \n",
       "2  The feud broke into public view last week when...      1  \n",
       "3  MEXICO CITY (Reuters) - Egypt’s Cheiron Holdin...      1  \n",
       "4  Country singer Jason Aldean, who was performin...      1  "
      ]
     },
     "execution_count": 113,
     "metadata": {},
     "output_type": "execute_result"
    }
   ],
   "source": [
    "df.head()"
   ]
  },
  {
   "cell_type": "code",
   "execution_count": 114,
   "id": "189c5358",
   "metadata": {},
   "outputs": [],
   "source": [
    "df = df.rename(str.lower, axis='columns')"
   ]
  },
  {
   "cell_type": "code",
   "execution_count": 115,
   "id": "f67d551d",
   "metadata": {},
   "outputs": [],
   "source": [
    "df = df.rename({'headline':'title','body':'content'}, axis='columns')"
   ]
  },
  {
   "cell_type": "code",
   "execution_count": 116,
   "id": "100788f0",
   "metadata": {},
   "outputs": [],
   "source": [
    "label_translation = {1 : 'True', 0:'False'}"
   ]
  },
  {
   "cell_type": "code",
   "execution_count": 117,
   "id": "9d9a683c",
   "metadata": {},
   "outputs": [],
   "source": [
    "df = df.replace({\"Label\": label_translation})"
   ]
  },
  {
   "cell_type": "code",
   "execution_count": 120,
   "id": "c1fe2c8f",
   "metadata": {},
   "outputs": [],
   "source": [
    "df = df.drop(columns = ['urls'])"
   ]
  },
  {
   "cell_type": "code",
   "execution_count": 121,
   "id": "ebde9b52",
   "metadata": {},
   "outputs": [
    {
     "name": "stdout",
     "output_type": "stream",
     "text": [
      "<class 'pandas.core.frame.DataFrame'>\n",
      "RangeIndex: 4009 entries, 0 to 4008\n",
      "Data columns (total 3 columns):\n",
      " #   Column   Non-Null Count  Dtype \n",
      "---  ------   --------------  ----- \n",
      " 0   title    4009 non-null   object\n",
      " 1   content  3988 non-null   object\n",
      " 2   label    4009 non-null   int64 \n",
      "dtypes: int64(1), object(2)\n",
      "memory usage: 94.1+ KB\n"
     ]
    }
   ],
   "source": [
    "df.info()"
   ]
  },
  {
   "cell_type": "code",
   "execution_count": 122,
   "id": "745dee8f",
   "metadata": {},
   "outputs": [],
   "source": [
    "df = df.dropna()"
   ]
  },
  {
   "cell_type": "code",
   "execution_count": 124,
   "id": "0449fef2",
   "metadata": {},
   "outputs": [
    {
     "data": {
      "text/plain": [
       "0    2120\n",
       "1    1868\n",
       "Name: label, dtype: int64"
      ]
     },
     "execution_count": 124,
     "metadata": {},
     "output_type": "execute_result"
    }
   ],
   "source": [
    "df['label'].value_counts()"
   ]
  },
  {
   "cell_type": "code",
   "execution_count": 125,
   "id": "f8e91a6b",
   "metadata": {},
   "outputs": [],
   "source": [
    "eng_news_complete = df"
   ]
  },
  {
   "cell_type": "markdown",
   "id": "53e5e8d5",
   "metadata": {},
   "source": [
    "### Concat, check, and apply final cleaning steps on the true german news"
   ]
  },
  {
   "cell_type": "code",
   "execution_count": 27,
   "id": "697a959c",
   "metadata": {},
   "outputs": [],
   "source": [
    "gerreal1 = pd.read_csv(\"real_ger_news_1.csv\")\n",
    "gerreal2 = pd.read_csv(\"real_ger_news_2.csv\")\n",
    "gerreal3 = pd.read_csv(\"real_ger_news_3.csv\")"
   ]
  },
  {
   "cell_type": "code",
   "execution_count": 33,
   "id": "4f1572fe",
   "metadata": {},
   "outputs": [
    {
     "name": "stdout",
     "output_type": "stream",
     "text": [
      "<class 'pandas.core.frame.DataFrame'>\n",
      "RangeIndex: 469 entries, 0 to 468\n",
      "Data columns (total 4 columns):\n",
      " #   Column   Non-Null Count  Dtype \n",
      "---  ------   --------------  ----- \n",
      " 0   titles   469 non-null    object\n",
      " 1   content  469 non-null    object\n",
      " 2   subject  469 non-null    object\n",
      " 3   label    469 non-null    bool  \n",
      "dtypes: bool(1), object(3)\n",
      "memory usage: 11.6+ KB\n"
     ]
    }
   ],
   "source": [
    "gerreal1.info()"
   ]
  },
  {
   "cell_type": "code",
   "execution_count": 41,
   "id": "9e23ff19",
   "metadata": {},
   "outputs": [],
   "source": [
    "ger_real_news_complete = pd.concat([gerreal1, gerreal2, gerreal3], join ='inner')"
   ]
  },
  {
   "cell_type": "code",
   "execution_count": 42,
   "id": "79bd6bdb",
   "metadata": {},
   "outputs": [
    {
     "name": "stdout",
     "output_type": "stream",
     "text": [
      "<class 'pandas.core.frame.DataFrame'>\n",
      "Int64Index: 1421 entries, 0 to 475\n",
      "Data columns (total 4 columns):\n",
      " #   Column   Non-Null Count  Dtype \n",
      "---  ------   --------------  ----- \n",
      " 0   titles   1421 non-null   object\n",
      " 1   content  1421 non-null   object\n",
      " 2   subject  1421 non-null   object\n",
      " 3   label    1421 non-null   bool  \n",
      "dtypes: bool(1), object(3)\n",
      "memory usage: 45.8+ KB\n"
     ]
    }
   ],
   "source": [
    "ger_real_news_complete.info()"
   ]
  },
  {
   "cell_type": "code",
   "execution_count": 46,
   "id": "4b516b6c",
   "metadata": {},
   "outputs": [],
   "source": [
    "ger_real_news_complete = ger_real_news_complete.drop_duplicates()"
   ]
  },
  {
   "cell_type": "code",
   "execution_count": 47,
   "id": "9a4b63c6",
   "metadata": {},
   "outputs": [
    {
     "name": "stdout",
     "output_type": "stream",
     "text": [
      "<class 'pandas.core.frame.DataFrame'>\n",
      "Int64Index: 876 entries, 0 to 475\n",
      "Data columns (total 4 columns):\n",
      " #   Column   Non-Null Count  Dtype \n",
      "---  ------   --------------  ----- \n",
      " 0   titles   876 non-null    object\n",
      " 1   content  876 non-null    object\n",
      " 2   subject  876 non-null    object\n",
      " 3   label    876 non-null    bool  \n",
      "dtypes: bool(1), object(3)\n",
      "memory usage: 28.2+ KB\n"
     ]
    }
   ],
   "source": [
    "ger_real_news_complete.info()"
   ]
  },
  {
   "cell_type": "markdown",
   "id": "e13de435",
   "metadata": {},
   "source": [
    "### Concat, check, and apply final cleaning steps on fake German news"
   ]
  },
  {
   "cell_type": "code",
   "execution_count": 49,
   "id": "cac34bef",
   "metadata": {},
   "outputs": [
    {
     "name": "stdout",
     "output_type": "stream",
     "text": [
      "EDA.ipynb            fake_ger_news_2.csv  real_ger_news_1.csv\r\n",
      "english_data.csv     politifact_fake.txt  real_ger_news_2.csv\r\n",
      "fake_ger_news_1.csv  politifact_real.txt  real_ger_news_3.csv\r\n"
     ]
    }
   ],
   "source": [
    "ls"
   ]
  },
  {
   "cell_type": "code",
   "execution_count": 50,
   "id": "eca8695b",
   "metadata": {},
   "outputs": [],
   "source": [
    "gerfake1 = pd.read_csv(\"fake_ger_news_1.csv\")\n",
    "gerfake2 = pd.read_csv(\"fake_ger_news_2.csv\")"
   ]
  },
  {
   "cell_type": "code",
   "execution_count": 51,
   "id": "ffe82a30",
   "metadata": {},
   "outputs": [
    {
     "name": "stdout",
     "output_type": "stream",
     "text": [
      "<class 'pandas.core.frame.DataFrame'>\n",
      "RangeIndex: 220 entries, 0 to 219\n",
      "Data columns (total 3 columns):\n",
      " #   Column   Non-Null Count  Dtype \n",
      "---  ------   --------------  ----- \n",
      " 0   titles   220 non-null    object\n",
      " 1   content  220 non-null    object\n",
      " 2   label    220 non-null    bool  \n",
      "dtypes: bool(1), object(2)\n",
      "memory usage: 3.8+ KB\n"
     ]
    }
   ],
   "source": [
    "gerfake1.info()"
   ]
  },
  {
   "cell_type": "code",
   "execution_count": 52,
   "id": "7aeebe86",
   "metadata": {},
   "outputs": [
    {
     "name": "stdout",
     "output_type": "stream",
     "text": [
      "<class 'pandas.core.frame.DataFrame'>\n",
      "RangeIndex: 1128 entries, 0 to 1127\n",
      "Data columns (total 3 columns):\n",
      " #   Column   Non-Null Count  Dtype \n",
      "---  ------   --------------  ----- \n",
      " 0   titles   1128 non-null   object\n",
      " 1   content  1128 non-null   object\n",
      " 2   label    1128 non-null   bool  \n",
      "dtypes: bool(1), object(2)\n",
      "memory usage: 18.9+ KB\n"
     ]
    }
   ],
   "source": [
    "gerfake2.info()"
   ]
  },
  {
   "cell_type": "code",
   "execution_count": 54,
   "id": "692da14c",
   "metadata": {},
   "outputs": [],
   "source": [
    "ger_fake_news_complete = pd.concat([gerfake1, gerfake2], join ='inner')"
   ]
  },
  {
   "cell_type": "code",
   "execution_count": 57,
   "id": "39c0c6ee",
   "metadata": {},
   "outputs": [],
   "source": [
    "ger_fake_news_complete = ger_fake_news_complete.drop_duplicates()"
   ]
  },
  {
   "cell_type": "code",
   "execution_count": 59,
   "id": "ae868621",
   "metadata": {},
   "outputs": [
    {
     "name": "stdout",
     "output_type": "stream",
     "text": [
      "<class 'pandas.core.frame.DataFrame'>\n",
      "Int64Index: 1168 entries, 0 to 1127\n",
      "Data columns (total 3 columns):\n",
      " #   Column   Non-Null Count  Dtype \n",
      "---  ------   --------------  ----- \n",
      " 0   titles   1168 non-null   object\n",
      " 1   content  1168 non-null   object\n",
      " 2   label    1168 non-null   bool  \n",
      "dtypes: bool(1), object(2)\n",
      "memory usage: 28.5+ KB\n"
     ]
    }
   ],
   "source": [
    "ger_fake_news_complete.info()"
   ]
  },
  {
   "cell_type": "code",
   "execution_count": 60,
   "id": "c370685d",
   "metadata": {},
   "outputs": [],
   "source": [
    "ger_news_complete = pd.concat([ger_real_news_complete, ger_fake_news_complete], join ='inner')"
   ]
  },
  {
   "cell_type": "code",
   "execution_count": 62,
   "id": "b04c0554",
   "metadata": {},
   "outputs": [
    {
     "name": "stdout",
     "output_type": "stream",
     "text": [
      "<class 'pandas.core.frame.DataFrame'>\n",
      "Int64Index: 2044 entries, 0 to 1127\n",
      "Data columns (total 3 columns):\n",
      " #   Column   Non-Null Count  Dtype \n",
      "---  ------   --------------  ----- \n",
      " 0   titles   2044 non-null   object\n",
      " 1   content  2044 non-null   object\n",
      " 2   label    2044 non-null   bool  \n",
      "dtypes: bool(1), object(2)\n",
      "memory usage: 49.9+ KB\n"
     ]
    }
   ],
   "source": [
    "ger_news_complete.info()"
   ]
  },
  {
   "cell_type": "code",
   "execution_count": 63,
   "id": "7103bcfa",
   "metadata": {},
   "outputs": [
    {
     "data": {
      "text/plain": [
       "False    1168\n",
       "True      876\n",
       "Name: label, dtype: int64"
      ]
     },
     "execution_count": 63,
     "metadata": {},
     "output_type": "execute_result"
    }
   ],
   "source": [
    "ger_news_complete['label'].value_counts()"
   ]
  },
  {
   "cell_type": "markdown",
   "id": "28d87fd8",
   "metadata": {},
   "source": [
    "### Remove stop words from both data sets"
   ]
  },
  {
   "cell_type": "code",
   "execution_count": 69,
   "id": "5c57c93a",
   "metadata": {},
   "outputs": [],
   "source": [
    "from nltk.corpus import stopwords\n",
    "from nltk.tokenize import word_tokenize"
   ]
  },
  {
   "cell_type": "code",
   "execution_count": 72,
   "id": "bca7a7c1",
   "metadata": {},
   "outputs": [],
   "source": [
    "german_stop_words = stopwords.words('german')"
   ]
  },
  {
   "cell_type": "code",
   "execution_count": 73,
   "id": "92d67b62",
   "metadata": {},
   "outputs": [],
   "source": [
    "english_stop_words = stopwords.words('english')"
   ]
  },
  {
   "cell_type": "code",
   "execution_count": 104,
   "id": "6e615fa9",
   "metadata": {},
   "outputs": [],
   "source": [
    "ger_news_complete['content'] = ger_news_complete['content'].str.split(' ').apply(lambda x: ' '.join(\n",
    "    [word for word in x if word.lower() not in german_stop_words]))"
   ]
  },
  {
   "cell_type": "code",
   "execution_count": 134,
   "id": "0a97aa18",
   "metadata": {},
   "outputs": [],
   "source": [
    "ger_news_complete['titles'] = ger_news_complete['titles'].str.split(' ').apply(lambda x: ' '.join(\n",
    "    [word for word in x if word.lower() not in german_stop_words]))"
   ]
  },
  {
   "cell_type": "code",
   "execution_count": 135,
   "id": "20212faf",
   "metadata": {},
   "outputs": [
    {
     "data": {
      "text/html": [
       "<div>\n",
       "<style scoped>\n",
       "    .dataframe tbody tr th:only-of-type {\n",
       "        vertical-align: middle;\n",
       "    }\n",
       "\n",
       "    .dataframe tbody tr th {\n",
       "        vertical-align: top;\n",
       "    }\n",
       "\n",
       "    .dataframe thead th {\n",
       "        text-align: right;\n",
       "    }\n",
       "</style>\n",
       "<table border=\"1\" class=\"dataframe\">\n",
       "  <thead>\n",
       "    <tr style=\"text-align: right;\">\n",
       "      <th></th>\n",
       "      <th>titles</th>\n",
       "      <th>content</th>\n",
       "      <th>label</th>\n",
       "    </tr>\n",
       "  </thead>\n",
       "  <tbody>\n",
       "    <tr>\n",
       "      <th>0</th>\n",
       "      <td>Corona-Pandemie: Christine Lambrecht (SPD) spr...</td>\n",
       "      <td>Bundesinnenminister Horst Seehofer (CSU), Bund...</td>\n",
       "      <td>True</td>\n",
       "    </tr>\n",
       "    <tr>\n",
       "      <th>1</th>\n",
       "      <td>Unwetter Sachsen, Bayern Berlin: 67-Jähriger s...</td>\n",
       "      <td>Überflutete Straße bayerischen Penzberg Starkr...</td>\n",
       "      <td>True</td>\n",
       "    </tr>\n",
       "    <tr>\n",
       "      <th>2</th>\n",
       "      <td>Olympia 2021: Triathlon Männer beginnt kuriose...</td>\n",
       "      <td>Panne Olympia: Teil Triathleten wurde Boot bei...</td>\n",
       "      <td>True</td>\n",
       "    </tr>\n",
       "    <tr>\n",
       "      <th>3</th>\n",
       "      <td>Galeria Karstadt Kaufhof kündigt Neustart einh...</td>\n",
       "      <td>Filiale Galeria Kaufhof Köln Reihenweise Filia...</td>\n",
       "      <td>True</td>\n",
       "    </tr>\n",
       "    <tr>\n",
       "      <th>4</th>\n",
       "      <td>Olympia heute – Tag drei: Nacht geschah Tag br...</td>\n",
       "      <td>Sideris Tasiadis peilt Medaille Fehlstart beim...</td>\n",
       "      <td>True</td>\n",
       "    </tr>\n",
       "  </tbody>\n",
       "</table>\n",
       "</div>"
      ],
      "text/plain": [
       "                                              titles  \\\n",
       "0  Corona-Pandemie: Christine Lambrecht (SPD) spr...   \n",
       "1  Unwetter Sachsen, Bayern Berlin: 67-Jähriger s...   \n",
       "2  Olympia 2021: Triathlon Männer beginnt kuriose...   \n",
       "3  Galeria Karstadt Kaufhof kündigt Neustart einh...   \n",
       "4  Olympia heute – Tag drei: Nacht geschah Tag br...   \n",
       "\n",
       "                                             content  label  \n",
       "0  Bundesinnenminister Horst Seehofer (CSU), Bund...   True  \n",
       "1  Überflutete Straße bayerischen Penzberg Starkr...   True  \n",
       "2  Panne Olympia: Teil Triathleten wurde Boot bei...   True  \n",
       "3  Filiale Galeria Kaufhof Köln Reihenweise Filia...   True  \n",
       "4  Sideris Tasiadis peilt Medaille Fehlstart beim...   True  "
      ]
     },
     "execution_count": 135,
     "metadata": {},
     "output_type": "execute_result"
    }
   ],
   "source": [
    "ger_news_complete.head()"
   ]
  },
  {
   "cell_type": "code",
   "execution_count": 128,
   "id": "529de5b1",
   "metadata": {},
   "outputs": [],
   "source": [
    "eng_news_complete['content'] = eng_news_complete['content'].str.split(' ').apply(lambda content:\n",
    "    ' '.join([word for word in content if word not in english_stop_words]))"
   ]
  },
  {
   "cell_type": "code",
   "execution_count": 136,
   "id": "29ed0c82",
   "metadata": {},
   "outputs": [],
   "source": [
    "eng_news_complete['title'] = eng_news_complete['title'].str.split(' ').apply(lambda content:\n",
    "    ' '.join([word for word in content if word not in english_stop_words]))"
   ]
  },
  {
   "cell_type": "code",
   "execution_count": 137,
   "id": "81524136",
   "metadata": {},
   "outputs": [
    {
     "data": {
      "text/html": [
       "<div>\n",
       "<style scoped>\n",
       "    .dataframe tbody tr th:only-of-type {\n",
       "        vertical-align: middle;\n",
       "    }\n",
       "\n",
       "    .dataframe tbody tr th {\n",
       "        vertical-align: top;\n",
       "    }\n",
       "\n",
       "    .dataframe thead th {\n",
       "        text-align: right;\n",
       "    }\n",
       "</style>\n",
       "<table border=\"1\" class=\"dataframe\">\n",
       "  <thead>\n",
       "    <tr style=\"text-align: right;\">\n",
       "      <th></th>\n",
       "      <th>title</th>\n",
       "      <th>content</th>\n",
       "      <th>label</th>\n",
       "    </tr>\n",
       "  </thead>\n",
       "  <tbody>\n",
       "    <tr>\n",
       "      <th>0</th>\n",
       "      <td>Four ways Bob Corker skewered Donald Trump</td>\n",
       "      <td>Image copyright Getty Images On Sunday morning...</td>\n",
       "      <td>1</td>\n",
       "    </tr>\n",
       "    <tr>\n",
       "      <th>1</th>\n",
       "      <td>Linklater's war veteran comedy speaks modern A...</td>\n",
       "      <td>LONDON (Reuters) - “Last Flag Flying”, comedy-...</td>\n",
       "      <td>1</td>\n",
       "    </tr>\n",
       "    <tr>\n",
       "      <th>2</th>\n",
       "      <td>Trump’s Fight With Corker Jeopardizes His Legi...</td>\n",
       "      <td>The feud broke public view last week Mr. Corke...</td>\n",
       "      <td>1</td>\n",
       "    </tr>\n",
       "    <tr>\n",
       "      <th>3</th>\n",
       "      <td>Egypt's Cheiron wins tie-up Pemex Mexican onsh...</td>\n",
       "      <td>MEXICO CITY (Reuters) - Egypt’s Cheiron Holdin...</td>\n",
       "      <td>1</td>\n",
       "    </tr>\n",
       "    <tr>\n",
       "      <th>4</th>\n",
       "      <td>Jason Aldean opens 'SNL' Vegas tribute</td>\n",
       "      <td>Country singer Jason Aldean, performing Las Ve...</td>\n",
       "      <td>1</td>\n",
       "    </tr>\n",
       "  </tbody>\n",
       "</table>\n",
       "</div>"
      ],
      "text/plain": [
       "                                               title  \\\n",
       "0         Four ways Bob Corker skewered Donald Trump   \n",
       "1  Linklater's war veteran comedy speaks modern A...   \n",
       "2  Trump’s Fight With Corker Jeopardizes His Legi...   \n",
       "3  Egypt's Cheiron wins tie-up Pemex Mexican onsh...   \n",
       "4             Jason Aldean opens 'SNL' Vegas tribute   \n",
       "\n",
       "                                             content  label  \n",
       "0  Image copyright Getty Images On Sunday morning...      1  \n",
       "1  LONDON (Reuters) - “Last Flag Flying”, comedy-...      1  \n",
       "2  The feud broke public view last week Mr. Corke...      1  \n",
       "3  MEXICO CITY (Reuters) - Egypt’s Cheiron Holdin...      1  \n",
       "4  Country singer Jason Aldean, performing Las Ve...      1  "
      ]
     },
     "execution_count": 137,
     "metadata": {},
     "output_type": "execute_result"
    }
   ],
   "source": [
    "eng_news_complete.head()"
   ]
  },
  {
   "cell_type": "code",
   "execution_count": 130,
   "id": "60b60c7a",
   "metadata": {},
   "outputs": [],
   "source": [
    "eng_news_complete['content'] = eng_news_complete['content'].replace(r'\\n',' ', regex=True)"
   ]
  },
  {
   "cell_type": "code",
   "execution_count": 131,
   "id": "3ffad304",
   "metadata": {},
   "outputs": [],
   "source": [
    "eng_news_complete['title'] = eng_news_complete['title'].replace(r'\\n',' ', regex=True)"
   ]
  },
  {
   "cell_type": "code",
   "execution_count": 138,
   "id": "f673f00b",
   "metadata": {},
   "outputs": [
    {
     "data": {
      "text/html": [
       "<div>\n",
       "<style scoped>\n",
       "    .dataframe tbody tr th:only-of-type {\n",
       "        vertical-align: middle;\n",
       "    }\n",
       "\n",
       "    .dataframe tbody tr th {\n",
       "        vertical-align: top;\n",
       "    }\n",
       "\n",
       "    .dataframe thead th {\n",
       "        text-align: right;\n",
       "    }\n",
       "</style>\n",
       "<table border=\"1\" class=\"dataframe\">\n",
       "  <thead>\n",
       "    <tr style=\"text-align: right;\">\n",
       "      <th></th>\n",
       "      <th>title</th>\n",
       "      <th>content</th>\n",
       "      <th>label</th>\n",
       "    </tr>\n",
       "  </thead>\n",
       "  <tbody>\n",
       "    <tr>\n",
       "      <th>0</th>\n",
       "      <td>Four ways Bob Corker skewered Donald Trump</td>\n",
       "      <td>Image copyright Getty Images On Sunday morning...</td>\n",
       "      <td>1</td>\n",
       "    </tr>\n",
       "    <tr>\n",
       "      <th>1</th>\n",
       "      <td>Linklater's war veteran comedy speaks modern A...</td>\n",
       "      <td>LONDON (Reuters) - “Last Flag Flying”, comedy-...</td>\n",
       "      <td>1</td>\n",
       "    </tr>\n",
       "    <tr>\n",
       "      <th>2</th>\n",
       "      <td>Trump’s Fight With Corker Jeopardizes His Legi...</td>\n",
       "      <td>The feud broke public view last week Mr. Corke...</td>\n",
       "      <td>1</td>\n",
       "    </tr>\n",
       "    <tr>\n",
       "      <th>3</th>\n",
       "      <td>Egypt's Cheiron wins tie-up Pemex Mexican onsh...</td>\n",
       "      <td>MEXICO CITY (Reuters) - Egypt’s Cheiron Holdin...</td>\n",
       "      <td>1</td>\n",
       "    </tr>\n",
       "    <tr>\n",
       "      <th>4</th>\n",
       "      <td>Jason Aldean opens 'SNL' Vegas tribute</td>\n",
       "      <td>Country singer Jason Aldean, performing Las Ve...</td>\n",
       "      <td>1</td>\n",
       "    </tr>\n",
       "  </tbody>\n",
       "</table>\n",
       "</div>"
      ],
      "text/plain": [
       "                                               title  \\\n",
       "0         Four ways Bob Corker skewered Donald Trump   \n",
       "1  Linklater's war veteran comedy speaks modern A...   \n",
       "2  Trump’s Fight With Corker Jeopardizes His Legi...   \n",
       "3  Egypt's Cheiron wins tie-up Pemex Mexican onsh...   \n",
       "4             Jason Aldean opens 'SNL' Vegas tribute   \n",
       "\n",
       "                                             content  label  \n",
       "0  Image copyright Getty Images On Sunday morning...      1  \n",
       "1  LONDON (Reuters) - “Last Flag Flying”, comedy-...      1  \n",
       "2  The feud broke public view last week Mr. Corke...      1  \n",
       "3  MEXICO CITY (Reuters) - Egypt’s Cheiron Holdin...      1  \n",
       "4  Country singer Jason Aldean, performing Las Ve...      1  "
      ]
     },
     "execution_count": 138,
     "metadata": {},
     "output_type": "execute_result"
    }
   ],
   "source": [
    "eng_news_complete.head()"
   ]
  },
  {
   "cell_type": "code",
   "execution_count": 139,
   "id": "86251470",
   "metadata": {},
   "outputs": [],
   "source": [
    "complete_news_clean = pd.concat([eng_news_complete, ger_news_complete], join ='inner')"
   ]
  },
  {
   "cell_type": "code",
   "execution_count": 142,
   "id": "11bb7403",
   "metadata": {},
   "outputs": [],
   "source": [
    "eng_news_complete.to_csv('eng_news_clean.csv', index = False)\n",
    "ger_news_complete.to_csv('ger_news_clean.csv', index = False)\n",
    "complete_news_clean.to_csv('complete_news_clean.csv', index = False)"
   ]
  },
  {
   "cell_type": "code",
   "execution_count": 143,
   "id": "72fd82d4",
   "metadata": {},
   "outputs": [
    {
     "name": "stdout",
     "output_type": "stream",
     "text": [
      "Basic EDA & stop word cleaning.ipynb  ger_news_clean.csv\r\n",
      "complete_news_clean.csv               politifact_fake.txt\r\n",
      "eng_news_clean.csv                    politifact_real.txt\r\n",
      "english_data.csv                      real_ger_news_1.csv\r\n",
      "fake_ger_news_1.csv                   real_ger_news_2.csv\r\n",
      "fake_ger_news_2.csv                   real_ger_news_3.csv\r\n"
     ]
    }
   ],
   "source": [
    "ls"
   ]
  }
 ],
 "metadata": {
  "kernelspec": {
   "display_name": "Python 3",
   "language": "python",
   "name": "python3"
  },
  "language_info": {
   "codemirror_mode": {
    "name": "ipython",
    "version": 3
   },
   "file_extension": ".py",
   "mimetype": "text/x-python",
   "name": "python",
   "nbconvert_exporter": "python",
   "pygments_lexer": "ipython3",
   "version": "3.8.8"
  }
 },
 "nbformat": 4,
 "nbformat_minor": 5
}
