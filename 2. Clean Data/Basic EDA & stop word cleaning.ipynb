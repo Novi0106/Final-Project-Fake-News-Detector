{
 "cells": [
  {
   "cell_type": "code",
   "execution_count": 7,
   "id": "ce2dbf04",
   "metadata": {},
   "outputs": [],
   "source": [
    "import pandas as pd\n",
    "import seaborn as sns\n",
    "import matplotlib.pyplot as plt"
   ]
  },
  {
   "cell_type": "markdown",
   "id": "e00ac8ff",
   "metadata": {},
   "source": [
    "### Clean the english news data set\n",
    "\n",
    "For the English bit of news we will use an [extensive data set by the University of Victoria](https://www.uvic.ca/engineering/ece/isot/datasets/fake-news/index.php), containing over 40,000 labelled news articles."
   ]
  },
  {
   "cell_type": "code",
   "execution_count": 8,
   "id": "bfa9568b",
   "metadata": {},
   "outputs": [],
   "source": [
    "df1 = pd.read_csv('Input_Data/Fake.csv')"
   ]
  },
  {
   "cell_type": "code",
   "execution_count": 9,
   "id": "dd3f53bb",
   "metadata": {},
   "outputs": [],
   "source": [
    "# we will only need a subset of the dataset, namely content and titles\n",
    "\n",
    "df1 = df1[['title','text']]"
   ]
  },
  {
   "cell_type": "code",
   "execution_count": 10,
   "id": "d6b3352c",
   "metadata": {},
   "outputs": [],
   "source": [
    "df1['label'] = 'Fake'"
   ]
  },
  {
   "cell_type": "code",
   "execution_count": 11,
   "id": "1813ea49",
   "metadata": {},
   "outputs": [
    {
     "data": {
      "text/plain": [
       "' Drunk Bragging Trump Staffer Started Russian Collusion Investigation'"
      ]
     },
     "execution_count": 11,
     "metadata": {},
     "output_type": "execute_result"
    }
   ],
   "source": [
    "df1['title'][1]"
   ]
  },
  {
   "cell_type": "code",
   "execution_count": 12,
   "id": "00529b4d",
   "metadata": {},
   "outputs": [
    {
     "name": "stdout",
     "output_type": "stream",
     "text": [
      "<class 'pandas.core.frame.DataFrame'>\n",
      "RangeIndex: 23481 entries, 0 to 23480\n",
      "Data columns (total 3 columns):\n",
      " #   Column  Non-Null Count  Dtype \n",
      "---  ------  --------------  ----- \n",
      " 0   title   23481 non-null  object\n",
      " 1   text    23481 non-null  object\n",
      " 2   label   23481 non-null  object\n",
      "dtypes: object(3)\n",
      "memory usage: 550.5+ KB\n"
     ]
    }
   ],
   "source": [
    "# check for null values\n",
    "\n",
    "df1.info()"
   ]
  },
  {
   "cell_type": "code",
   "execution_count": 13,
   "id": "489f75dd",
   "metadata": {},
   "outputs": [],
   "source": [
    "# rename the content column\n",
    "df1 = df1.rename({'text':'content'}, axis='columns')"
   ]
  },
  {
   "cell_type": "markdown",
   "id": "2ea77449",
   "metadata": {},
   "source": [
    "Repeat the process for the .csv file containing all the articles labelled as true"
   ]
  },
  {
   "cell_type": "code",
   "execution_count": 14,
   "id": "dcc9b637",
   "metadata": {},
   "outputs": [],
   "source": [
    "df2 = pd.read_csv('Input_Data/True.csv')"
   ]
  },
  {
   "cell_type": "code",
   "execution_count": 15,
   "id": "a25799f3",
   "metadata": {},
   "outputs": [],
   "source": [
    "df2 = df2[['title','text']]"
   ]
  },
  {
   "cell_type": "code",
   "execution_count": 16,
   "id": "e19b9daa",
   "metadata": {},
   "outputs": [],
   "source": [
    "df2['label'] = 'Real'"
   ]
  },
  {
   "cell_type": "code",
   "execution_count": 17,
   "id": "c1529c54",
   "metadata": {},
   "outputs": [],
   "source": [
    "df2 = df2.rename({'text':'content'}, axis='columns')"
   ]
  },
  {
   "cell_type": "code",
   "execution_count": 18,
   "id": "94433017",
   "metadata": {},
   "outputs": [
    {
     "name": "stdout",
     "output_type": "stream",
     "text": [
      "<class 'pandas.core.frame.DataFrame'>\n",
      "RangeIndex: 21417 entries, 0 to 21416\n",
      "Data columns (total 3 columns):\n",
      " #   Column   Non-Null Count  Dtype \n",
      "---  ------   --------------  ----- \n",
      " 0   title    21417 non-null  object\n",
      " 1   content  21417 non-null  object\n",
      " 2   label    21417 non-null  object\n",
      "dtypes: object(3)\n",
      "memory usage: 502.1+ KB\n"
     ]
    }
   ],
   "source": [
    "df2.info()"
   ]
  },
  {
   "cell_type": "code",
   "execution_count": 19,
   "id": "b1898d57",
   "metadata": {},
   "outputs": [],
   "source": [
    "eng_news_complete =  pd.concat([df1, df2], join ='inner')"
   ]
  },
  {
   "cell_type": "code",
   "execution_count": 20,
   "id": "f732d93b",
   "metadata": {},
   "outputs": [],
   "source": [
    "eng_news_complete = eng_news_complete.reset_index(drop=True)"
   ]
  },
  {
   "cell_type": "code",
   "execution_count": 21,
   "id": "2fcdeea7",
   "metadata": {},
   "outputs": [],
   "source": [
    "#eng_news_complete = eng_news_complete[['content','label']]"
   ]
  },
  {
   "cell_type": "code",
   "execution_count": 22,
   "id": "a3bc92c1",
   "metadata": {},
   "outputs": [
    {
     "name": "stdout",
     "output_type": "stream",
     "text": [
      "<class 'pandas.core.frame.DataFrame'>\n",
      "RangeIndex: 44898 entries, 0 to 44897\n",
      "Data columns (total 3 columns):\n",
      " #   Column   Non-Null Count  Dtype \n",
      "---  ------   --------------  ----- \n",
      " 0   title    44898 non-null  object\n",
      " 1   content  44898 non-null  object\n",
      " 2   label    44898 non-null  object\n",
      "dtypes: object(3)\n",
      "memory usage: 1.0+ MB\n"
     ]
    }
   ],
   "source": [
    "eng_news_complete.info()"
   ]
  },
  {
   "cell_type": "markdown",
   "id": "53e5e8d5",
   "metadata": {},
   "source": [
    "### Concat, check, and apply final cleaning steps on the true german news"
   ]
  },
  {
   "cell_type": "code",
   "execution_count": 23,
   "id": "697a959c",
   "metadata": {},
   "outputs": [],
   "source": [
    "# Import all the news cvs\n",
    "\n",
    "gerreal1 = pd.read_csv(\"Input_Data/real_ger_news_1.csv\")\n",
    "gerreal2 = pd.read_csv(\"Input_Data/real_ger_news_2.csv\")\n",
    "gerreal3 = pd.read_csv(\"Input_Data/real_ger_news_3.csv\")\n",
    "gerreal4 = pd.read_csv(\"Input_Data/real_ger_news_4.csv\")\n",
    "gerreal5 = pd.read_csv(\"Input_Data/real_ger_news_5.csv\")"
   ]
  },
  {
   "cell_type": "code",
   "execution_count": 24,
   "id": "4f1572fe",
   "metadata": {},
   "outputs": [
    {
     "name": "stdout",
     "output_type": "stream",
     "text": [
      "<class 'pandas.core.frame.DataFrame'>\n",
      "RangeIndex: 469 entries, 0 to 468\n",
      "Data columns (total 4 columns):\n",
      " #   Column   Non-Null Count  Dtype \n",
      "---  ------   --------------  ----- \n",
      " 0   titles   469 non-null    object\n",
      " 1   content  469 non-null    object\n",
      " 2   subject  469 non-null    object\n",
      " 3   label    469 non-null    bool  \n",
      "dtypes: bool(1), object(3)\n",
      "memory usage: 11.6+ KB\n"
     ]
    }
   ],
   "source": [
    "gerreal1.info()"
   ]
  },
  {
   "cell_type": "code",
   "execution_count": 25,
   "id": "9e23ff19",
   "metadata": {},
   "outputs": [],
   "source": [
    "# concat all news in a data set\n",
    "ger_real_news_complete = pd.concat([gerreal1, gerreal2, gerreal3, gerreal4, gerreal5], join ='inner')"
   ]
  },
  {
   "cell_type": "code",
   "execution_count": 26,
   "id": "79bd6bdb",
   "metadata": {},
   "outputs": [
    {
     "name": "stdout",
     "output_type": "stream",
     "text": [
      "<class 'pandas.core.frame.DataFrame'>\n",
      "Int64Index: 2494 entries, 0 to 599\n",
      "Data columns (total 4 columns):\n",
      " #   Column   Non-Null Count  Dtype \n",
      "---  ------   --------------  ----- \n",
      " 0   titles   2492 non-null   object\n",
      " 1   content  2475 non-null   object\n",
      " 2   subject  2494 non-null   object\n",
      " 3   label    2494 non-null   bool  \n",
      "dtypes: bool(1), object(3)\n",
      "memory usage: 80.4+ KB\n"
     ]
    }
   ],
   "source": [
    "ger_real_news_complete.info()"
   ]
  },
  {
   "cell_type": "code",
   "execution_count": 27,
   "id": "4b516b6c",
   "metadata": {},
   "outputs": [],
   "source": [
    "ger_real_news_complete = ger_real_news_complete.drop_duplicates()"
   ]
  },
  {
   "cell_type": "code",
   "execution_count": 28,
   "id": "4a8aa6a7",
   "metadata": {},
   "outputs": [],
   "source": [
    "ger_real_news_complete = ger_real_news_complete.dropna()"
   ]
  },
  {
   "cell_type": "code",
   "execution_count": 29,
   "id": "9a4b63c6",
   "metadata": {},
   "outputs": [
    {
     "name": "stdout",
     "output_type": "stream",
     "text": [
      "<class 'pandas.core.frame.DataFrame'>\n",
      "Int64Index: 1865 entries, 0 to 599\n",
      "Data columns (total 4 columns):\n",
      " #   Column   Non-Null Count  Dtype \n",
      "---  ------   --------------  ----- \n",
      " 0   titles   1865 non-null   object\n",
      " 1   content  1865 non-null   object\n",
      " 2   subject  1865 non-null   object\n",
      " 3   label    1865 non-null   bool  \n",
      "dtypes: bool(1), object(3)\n",
      "memory usage: 60.1+ KB\n"
     ]
    }
   ],
   "source": [
    "ger_real_news_complete.info()"
   ]
  },
  {
   "cell_type": "markdown",
   "id": "e13de435",
   "metadata": {},
   "source": [
    "### Concat, check, and apply final cleaning steps on fake German news"
   ]
  },
  {
   "cell_type": "markdown",
   "id": "05fd65f0",
   "metadata": {},
   "source": [
    "Repeat the process for the german fake news that have been collected"
   ]
  },
  {
   "cell_type": "code",
   "execution_count": 30,
   "id": "eca8695b",
   "metadata": {},
   "outputs": [],
   "source": [
    "gerfake1 = pd.read_csv(\"Input_Data/fake_ger_news_1.csv\")\n",
    "gerfake2 = pd.read_csv(\"Input_Data/fake_ger_news_2.csv\")\n",
    "gerfake3 = pd.read_csv(\"Input_Data/fake_ger_news_3.csv\")\n",
    "gerfake4 = pd.read_csv(\"Input_Data/fake_ger_news_4.csv\")\n",
    "gerfake5 = pd.read_csv(\"Input_Data/fake_ger_news_5.csv\")\n",
    "gerfake6 = pd.read_csv(\"Input_Data/fake_ger_news_6.csv\")\n",
    "gerfake7 = pd.read_csv(\"Input_Data/fake_ger_news_7.csv\")"
   ]
  },
  {
   "cell_type": "code",
   "execution_count": 31,
   "id": "ffe82a30",
   "metadata": {},
   "outputs": [
    {
     "name": "stdout",
     "output_type": "stream",
     "text": [
      "<class 'pandas.core.frame.DataFrame'>\n",
      "RangeIndex: 220 entries, 0 to 219\n",
      "Data columns (total 3 columns):\n",
      " #   Column   Non-Null Count  Dtype \n",
      "---  ------   --------------  ----- \n",
      " 0   titles   220 non-null    object\n",
      " 1   content  220 non-null    object\n",
      " 2   label    220 non-null    bool  \n",
      "dtypes: bool(1), object(2)\n",
      "memory usage: 3.8+ KB\n"
     ]
    }
   ],
   "source": [
    "gerfake1.info()"
   ]
  },
  {
   "cell_type": "code",
   "execution_count": 32,
   "id": "7aeebe86",
   "metadata": {},
   "outputs": [
    {
     "name": "stdout",
     "output_type": "stream",
     "text": [
      "<class 'pandas.core.frame.DataFrame'>\n",
      "RangeIndex: 1128 entries, 0 to 1127\n",
      "Data columns (total 3 columns):\n",
      " #   Column   Non-Null Count  Dtype \n",
      "---  ------   --------------  ----- \n",
      " 0   titles   1128 non-null   object\n",
      " 1   content  1128 non-null   object\n",
      " 2   label    1128 non-null   bool  \n",
      "dtypes: bool(1), object(2)\n",
      "memory usage: 18.9+ KB\n"
     ]
    }
   ],
   "source": [
    "gerfake2.info()"
   ]
  },
  {
   "cell_type": "code",
   "execution_count": 33,
   "id": "692da14c",
   "metadata": {},
   "outputs": [],
   "source": [
    "ger_fake_news_complete = pd.concat([gerfake1, gerfake2, gerfake3, gerfake4, gerfake5, gerfake6, gerfake7], join ='inner')"
   ]
  },
  {
   "cell_type": "code",
   "execution_count": 34,
   "id": "39c0c6ee",
   "metadata": {},
   "outputs": [],
   "source": [
    "ger_fake_news_complete = ger_fake_news_complete.drop_duplicates()"
   ]
  },
  {
   "cell_type": "code",
   "execution_count": 35,
   "id": "ae868621",
   "metadata": {},
   "outputs": [
    {
     "name": "stdout",
     "output_type": "stream",
     "text": [
      "<class 'pandas.core.frame.DataFrame'>\n",
      "Int64Index: 1652 entries, 0 to 83\n",
      "Data columns (total 3 columns):\n",
      " #   Column   Non-Null Count  Dtype \n",
      "---  ------   --------------  ----- \n",
      " 0   titles   1652 non-null   object\n",
      " 1   content  1652 non-null   object\n",
      " 2   label    1652 non-null   bool  \n",
      "dtypes: bool(1), object(2)\n",
      "memory usage: 40.3+ KB\n"
     ]
    }
   ],
   "source": [
    "ger_fake_news_complete.info()"
   ]
  },
  {
   "cell_type": "code",
   "execution_count": 36,
   "id": "c370685d",
   "metadata": {},
   "outputs": [],
   "source": [
    "ger_news_complete = pd.concat([ger_real_news_complete, ger_fake_news_complete], join ='inner')"
   ]
  },
  {
   "cell_type": "code",
   "execution_count": 37,
   "id": "ec67300a",
   "metadata": {},
   "outputs": [],
   "source": [
    "ger_news_complete = ger_news_complete.dropna()"
   ]
  },
  {
   "cell_type": "code",
   "execution_count": 38,
   "id": "b04c0554",
   "metadata": {},
   "outputs": [
    {
     "name": "stdout",
     "output_type": "stream",
     "text": [
      "<class 'pandas.core.frame.DataFrame'>\n",
      "Int64Index: 3517 entries, 0 to 83\n",
      "Data columns (total 3 columns):\n",
      " #   Column   Non-Null Count  Dtype \n",
      "---  ------   --------------  ----- \n",
      " 0   titles   3517 non-null   object\n",
      " 1   content  3517 non-null   object\n",
      " 2   label    3517 non-null   bool  \n",
      "dtypes: bool(1), object(2)\n",
      "memory usage: 85.9+ KB\n"
     ]
    }
   ],
   "source": [
    "ger_news_complete.info()"
   ]
  },
  {
   "cell_type": "code",
   "execution_count": 39,
   "id": "aa1e1f79",
   "metadata": {},
   "outputs": [],
   "source": [
    "label_converter = {True:'Real', False:'Fake'}\n",
    "\n",
    "ger_news_complete = ger_news_complete.replace({'label' : label_converter})"
   ]
  },
  {
   "cell_type": "code",
   "execution_count": 40,
   "id": "7103bcfa",
   "metadata": {},
   "outputs": [
    {
     "data": {
      "text/plain": [
       "Real    1865\n",
       "Fake    1652\n",
       "Name: label, dtype: int64"
      ]
     },
     "execution_count": 40,
     "metadata": {},
     "output_type": "execute_result"
    }
   ],
   "source": [
    "ger_news_complete['label'].value_counts()"
   ]
  },
  {
   "cell_type": "markdown",
   "id": "171562a3",
   "metadata": {},
   "source": [
    "### Compile a test data set\n",
    "\n",
    "This to have an indendent set of data to test the model a second time. For this we'll just use a kaggle data set."
   ]
  },
  {
   "cell_type": "code",
   "execution_count": 41,
   "id": "87e94ce5",
   "metadata": {},
   "outputs": [],
   "source": [
    "df = pd.read_csv(\"Input_Data/english_data.csv\")"
   ]
  },
  {
   "cell_type": "code",
   "execution_count": 42,
   "id": "5980b0f1",
   "metadata": {},
   "outputs": [
    {
     "data": {
      "text/html": [
       "<div>\n",
       "<style scoped>\n",
       "    .dataframe tbody tr th:only-of-type {\n",
       "        vertical-align: middle;\n",
       "    }\n",
       "\n",
       "    .dataframe tbody tr th {\n",
       "        vertical-align: top;\n",
       "    }\n",
       "\n",
       "    .dataframe thead th {\n",
       "        text-align: right;\n",
       "    }\n",
       "</style>\n",
       "<table border=\"1\" class=\"dataframe\">\n",
       "  <thead>\n",
       "    <tr style=\"text-align: right;\">\n",
       "      <th></th>\n",
       "      <th>URLs</th>\n",
       "      <th>Headline</th>\n",
       "      <th>Body</th>\n",
       "      <th>Label</th>\n",
       "    </tr>\n",
       "  </thead>\n",
       "  <tbody>\n",
       "    <tr>\n",
       "      <th>0</th>\n",
       "      <td>http://www.bbc.com/news/world-us-canada-414191...</td>\n",
       "      <td>Four ways Bob Corker skewered Donald Trump</td>\n",
       "      <td>Image copyright Getty Images\\nOn Sunday mornin...</td>\n",
       "      <td>1</td>\n",
       "    </tr>\n",
       "    <tr>\n",
       "      <th>1</th>\n",
       "      <td>https://www.reuters.com/article/us-filmfestiva...</td>\n",
       "      <td>Linklater's war veteran comedy speaks to moder...</td>\n",
       "      <td>LONDON (Reuters) - “Last Flag Flying”, a comed...</td>\n",
       "      <td>1</td>\n",
       "    </tr>\n",
       "    <tr>\n",
       "      <th>2</th>\n",
       "      <td>https://www.nytimes.com/2017/10/09/us/politics...</td>\n",
       "      <td>Trump’s Fight With Corker Jeopardizes His Legi...</td>\n",
       "      <td>The feud broke into public view last week when...</td>\n",
       "      <td>1</td>\n",
       "    </tr>\n",
       "    <tr>\n",
       "      <th>3</th>\n",
       "      <td>https://www.reuters.com/article/us-mexico-oil-...</td>\n",
       "      <td>Egypt's Cheiron wins tie-up with Pemex for Mex...</td>\n",
       "      <td>MEXICO CITY (Reuters) - Egypt’s Cheiron Holdin...</td>\n",
       "      <td>1</td>\n",
       "    </tr>\n",
       "    <tr>\n",
       "      <th>4</th>\n",
       "      <td>http://www.cnn.com/videos/cnnmoney/2017/10/08/...</td>\n",
       "      <td>Jason Aldean opens 'SNL' with Vegas tribute</td>\n",
       "      <td>Country singer Jason Aldean, who was performin...</td>\n",
       "      <td>1</td>\n",
       "    </tr>\n",
       "  </tbody>\n",
       "</table>\n",
       "</div>"
      ],
      "text/plain": [
       "                                                URLs  \\\n",
       "0  http://www.bbc.com/news/world-us-canada-414191...   \n",
       "1  https://www.reuters.com/article/us-filmfestiva...   \n",
       "2  https://www.nytimes.com/2017/10/09/us/politics...   \n",
       "3  https://www.reuters.com/article/us-mexico-oil-...   \n",
       "4  http://www.cnn.com/videos/cnnmoney/2017/10/08/...   \n",
       "\n",
       "                                            Headline  \\\n",
       "0         Four ways Bob Corker skewered Donald Trump   \n",
       "1  Linklater's war veteran comedy speaks to moder...   \n",
       "2  Trump’s Fight With Corker Jeopardizes His Legi...   \n",
       "3  Egypt's Cheiron wins tie-up with Pemex for Mex...   \n",
       "4        Jason Aldean opens 'SNL' with Vegas tribute   \n",
       "\n",
       "                                                Body  Label  \n",
       "0  Image copyright Getty Images\\nOn Sunday mornin...      1  \n",
       "1  LONDON (Reuters) - “Last Flag Flying”, a comed...      1  \n",
       "2  The feud broke into public view last week when...      1  \n",
       "3  MEXICO CITY (Reuters) - Egypt’s Cheiron Holdin...      1  \n",
       "4  Country singer Jason Aldean, who was performin...      1  "
      ]
     },
     "execution_count": 42,
     "metadata": {},
     "output_type": "execute_result"
    }
   ],
   "source": [
    "df.head()"
   ]
  },
  {
   "cell_type": "code",
   "execution_count": 43,
   "id": "fe0e7e12",
   "metadata": {},
   "outputs": [],
   "source": [
    "df = df.rename(str.lower, axis='columns')"
   ]
  },
  {
   "cell_type": "code",
   "execution_count": 44,
   "id": "d5412de7",
   "metadata": {},
   "outputs": [],
   "source": [
    "df = df.rename({'headline':'title','body':'content'}, axis='columns')"
   ]
  },
  {
   "cell_type": "code",
   "execution_count": 45,
   "id": "e3abbfbe",
   "metadata": {},
   "outputs": [],
   "source": [
    "label_translation = {1 : 'Real', 0:'Fake'}\n",
    "df = df.replace({\"label\": label_translation})"
   ]
  },
  {
   "cell_type": "code",
   "execution_count": 46,
   "id": "ee0d9bc8",
   "metadata": {},
   "outputs": [],
   "source": [
    "df = df.drop(columns = ['urls'])"
   ]
  },
  {
   "cell_type": "code",
   "execution_count": 47,
   "id": "711860c9",
   "metadata": {},
   "outputs": [],
   "source": [
    "df = df.dropna()"
   ]
  },
  {
   "cell_type": "code",
   "execution_count": 48,
   "id": "1692ba28",
   "metadata": {},
   "outputs": [
    {
     "name": "stdout",
     "output_type": "stream",
     "text": [
      "<class 'pandas.core.frame.DataFrame'>\n",
      "Int64Index: 3988 entries, 0 to 4008\n",
      "Data columns (total 3 columns):\n",
      " #   Column   Non-Null Count  Dtype \n",
      "---  ------   --------------  ----- \n",
      " 0   title    3988 non-null   object\n",
      " 1   content  3988 non-null   object\n",
      " 2   label    3988 non-null   object\n",
      "dtypes: object(3)\n",
      "memory usage: 124.6+ KB\n"
     ]
    }
   ],
   "source": [
    "df.info()"
   ]
  },
  {
   "cell_type": "code",
   "execution_count": 49,
   "id": "daa59554",
   "metadata": {},
   "outputs": [
    {
     "data": {
      "text/plain": [
       "Fake    2120\n",
       "Real    1868\n",
       "Name: label, dtype: int64"
      ]
     },
     "execution_count": 49,
     "metadata": {},
     "output_type": "execute_result"
    }
   ],
   "source": [
    "df['label'].value_counts()"
   ]
  },
  {
   "cell_type": "code",
   "execution_count": 50,
   "id": "bfa3e2e8",
   "metadata": {},
   "outputs": [],
   "source": [
    "eng_test = df"
   ]
  },
  {
   "cell_type": "code",
   "execution_count": 51,
   "id": "a952da65",
   "metadata": {},
   "outputs": [
    {
     "name": "stdout",
     "output_type": "stream",
     "text": [
      "Basic EDA & stop word cleaning.ipynb eng_news_clean.csv\r\n",
      "\u001b[34mInput_Data\u001b[m\u001b[m                           ger_news_clean.csv\r\n",
      "complete_news_clean.csv              test_bilingual.csv\r\n"
     ]
    }
   ],
   "source": [
    "!ls"
   ]
  },
  {
   "cell_type": "code",
   "execution_count": 53,
   "id": "2af29bcc",
   "metadata": {},
   "outputs": [],
   "source": [
    "gert1 = pd.read_csv('Input_Data/luzz.csv')\n",
    "gert2 = pd.read_csv('Input_Data/orf.csv')\n",
    "gert3 = pd.read_csv('Input_Data/gertest.csv')"
   ]
  },
  {
   "cell_type": "code",
   "execution_count": 54,
   "id": "5b13a3ba",
   "metadata": {},
   "outputs": [
    {
     "name": "stdout",
     "output_type": "stream",
     "text": [
      "<class 'pandas.core.frame.DataFrame'>\n",
      "RangeIndex: 119 entries, 0 to 118\n",
      "Data columns (total 4 columns):\n",
      " #   Column   Non-Null Count  Dtype \n",
      "---  ------   --------------  ----- \n",
      " 0   titles   119 non-null    object\n",
      " 1   content  119 non-null    object\n",
      " 2   subject  119 non-null    object\n",
      " 3   label    119 non-null    bool  \n",
      "dtypes: bool(1), object(3)\n",
      "memory usage: 3.0+ KB\n"
     ]
    }
   ],
   "source": [
    "gert3.info()"
   ]
  },
  {
   "cell_type": "code",
   "execution_count": 55,
   "id": "e5d654aa",
   "metadata": {},
   "outputs": [],
   "source": [
    "ger_test_complete =  pd.concat([gert1, gert2, gert3], join ='inner')"
   ]
  },
  {
   "cell_type": "code",
   "execution_count": 56,
   "id": "590c9ec1",
   "metadata": {},
   "outputs": [],
   "source": [
    "label_translation = {True : 'Real', False:'Fake'}\n",
    "ger_test_complete = ger_test_complete.replace({\"label\": label_translation})"
   ]
  },
  {
   "cell_type": "code",
   "execution_count": 57,
   "id": "d41ae043",
   "metadata": {},
   "outputs": [],
   "source": [
    "ger_test_complete = ger_test_complete.drop(columns = ['subject'])"
   ]
  },
  {
   "cell_type": "code",
   "execution_count": 58,
   "id": "4eb8cf9e",
   "metadata": {},
   "outputs": [],
   "source": [
    "ger_test_complete = ger_test_complete.rename({'titles':'title'}, axis='columns')"
   ]
  },
  {
   "cell_type": "code",
   "execution_count": 59,
   "id": "0b23af2b",
   "metadata": {},
   "outputs": [
    {
     "data": {
      "text/html": [
       "<div>\n",
       "<style scoped>\n",
       "    .dataframe tbody tr th:only-of-type {\n",
       "        vertical-align: middle;\n",
       "    }\n",
       "\n",
       "    .dataframe tbody tr th {\n",
       "        vertical-align: top;\n",
       "    }\n",
       "\n",
       "    .dataframe thead th {\n",
       "        text-align: right;\n",
       "    }\n",
       "</style>\n",
       "<table border=\"1\" class=\"dataframe\">\n",
       "  <thead>\n",
       "    <tr style=\"text-align: right;\">\n",
       "      <th></th>\n",
       "      <th>title</th>\n",
       "      <th>content</th>\n",
       "      <th>label</th>\n",
       "    </tr>\n",
       "  </thead>\n",
       "  <tbody>\n",
       "    <tr>\n",
       "      <th>0</th>\n",
       "      <td>Kleine Hufeisennase vor der Rückkehr in den Ka...</td>\n",
       "      <td>Seit 1988 konnte von der Kleinen Hufeisennase ...</td>\n",
       "      <td>Real</td>\n",
       "    </tr>\n",
       "    <tr>\n",
       "      <th>1</th>\n",
       "      <td>Zerstörter Salat und verfaulte Kirschen: Lage ...</td>\n",
       "      <td>Die ausserordentlichen Regenfälle führen zu ei...</td>\n",
       "      <td>Real</td>\n",
       "    </tr>\n",
       "    <tr>\n",
       "      <th>2</th>\n",
       "      <td>Stefan Küng verpasst um 0,40 Sekunden Bronze u...</td>\n",
       "      <td>Der Medaillentraum von Stefan Küng platzt im Z...</td>\n",
       "      <td>Real</td>\n",
       "    </tr>\n",
       "    <tr>\n",
       "      <th>3</th>\n",
       "      <td>Boom der fahrenden Hotelzimmer: Luzerner Wohnm...</td>\n",
       "      <td>Flugreisen sind noch immer unsicher, Quarantän...</td>\n",
       "      <td>Real</td>\n",
       "    </tr>\n",
       "    <tr>\n",
       "      <th>4</th>\n",
       "      <td>Nächster Knall! Alex Wilson verpasst Olympisch...</td>\n",
       "      <td>Nach Kariem Hussein verpasst mit Alex Wilson e...</td>\n",
       "      <td>Real</td>\n",
       "    </tr>\n",
       "  </tbody>\n",
       "</table>\n",
       "</div>"
      ],
      "text/plain": [
       "                                               title  \\\n",
       "0  Kleine Hufeisennase vor der Rückkehr in den Ka...   \n",
       "1  Zerstörter Salat und verfaulte Kirschen: Lage ...   \n",
       "2  Stefan Küng verpasst um 0,40 Sekunden Bronze u...   \n",
       "3  Boom der fahrenden Hotelzimmer: Luzerner Wohnm...   \n",
       "4  Nächster Knall! Alex Wilson verpasst Olympisch...   \n",
       "\n",
       "                                             content label  \n",
       "0  Seit 1988 konnte von der Kleinen Hufeisennase ...  Real  \n",
       "1  Die ausserordentlichen Regenfälle führen zu ei...  Real  \n",
       "2  Der Medaillentraum von Stefan Küng platzt im Z...  Real  \n",
       "3  Flugreisen sind noch immer unsicher, Quarantän...  Real  \n",
       "4  Nach Kariem Hussein verpasst mit Alex Wilson e...  Real  "
      ]
     },
     "execution_count": 59,
     "metadata": {},
     "output_type": "execute_result"
    }
   ],
   "source": [
    "ger_test_complete.head()"
   ]
  },
  {
   "cell_type": "code",
   "execution_count": 60,
   "id": "551ad69f",
   "metadata": {},
   "outputs": [],
   "source": [
    "test = pd.concat([ger_test_complete, eng_test], join ='inner')"
   ]
  },
  {
   "cell_type": "code",
   "execution_count": 61,
   "id": "6b0a8f74",
   "metadata": {},
   "outputs": [
    {
     "data": {
      "text/plain": [
       "Fake    2120\n",
       "Real    2110\n",
       "Name: label, dtype: int64"
      ]
     },
     "execution_count": 61,
     "metadata": {},
     "output_type": "execute_result"
    }
   ],
   "source": [
    "test['label'].value_counts()"
   ]
  },
  {
   "cell_type": "markdown",
   "id": "41a8e087",
   "metadata": {},
   "source": [
    "### Remove stop words\n",
    "\n",
    "Since the tfidf vectorizer, which we'll use later, only has English stopwords, we will clean the articles using nltk before feeding the data to the model."
   ]
  },
  {
   "cell_type": "code",
   "execution_count": 62,
   "id": "5c57c93a",
   "metadata": {},
   "outputs": [],
   "source": [
    "from nltk.corpus import stopwords\n",
    "from nltk.tokenize import word_tokenize"
   ]
  },
  {
   "cell_type": "code",
   "execution_count": 63,
   "id": "bca7a7c1",
   "metadata": {},
   "outputs": [],
   "source": [
    "german_stop_words = stopwords.words('german')"
   ]
  },
  {
   "cell_type": "code",
   "execution_count": 64,
   "id": "92d67b62",
   "metadata": {},
   "outputs": [],
   "source": [
    "english_stop_words = stopwords.words('english')"
   ]
  },
  {
   "cell_type": "code",
   "execution_count": 65,
   "id": "6e615fa9",
   "metadata": {},
   "outputs": [],
   "source": [
    "ger_news_complete['content'] = ger_news_complete['content'].str.split(' ').apply(lambda x: ' '.join(\n",
    "    [word for word in x if word.lower() not in german_stop_words]))"
   ]
  },
  {
   "cell_type": "code",
   "execution_count": 66,
   "id": "0a97aa18",
   "metadata": {},
   "outputs": [],
   "source": [
    "ger_news_complete['titles'] = ger_news_complete['titles'].str.split(' ').apply(lambda x: ' '.join(\n",
    "    [word for word in x if word.lower() not in german_stop_words]))"
   ]
  },
  {
   "cell_type": "code",
   "execution_count": 67,
   "id": "20212faf",
   "metadata": {},
   "outputs": [
    {
     "data": {
      "text/html": [
       "<div>\n",
       "<style scoped>\n",
       "    .dataframe tbody tr th:only-of-type {\n",
       "        vertical-align: middle;\n",
       "    }\n",
       "\n",
       "    .dataframe tbody tr th {\n",
       "        vertical-align: top;\n",
       "    }\n",
       "\n",
       "    .dataframe thead th {\n",
       "        text-align: right;\n",
       "    }\n",
       "</style>\n",
       "<table border=\"1\" class=\"dataframe\">\n",
       "  <thead>\n",
       "    <tr style=\"text-align: right;\">\n",
       "      <th></th>\n",
       "      <th>titles</th>\n",
       "      <th>content</th>\n",
       "      <th>label</th>\n",
       "    </tr>\n",
       "  </thead>\n",
       "  <tbody>\n",
       "    <tr>\n",
       "      <th>0</th>\n",
       "      <td>Corona-Pandemie: Christine Lambrecht (SPD) spr...</td>\n",
       "      <td>Bundesinnenminister Horst Seehofer (CSU), Bund...</td>\n",
       "      <td>Real</td>\n",
       "    </tr>\n",
       "    <tr>\n",
       "      <th>1</th>\n",
       "      <td>Unwetter Sachsen, Bayern Berlin: 67-Jähriger s...</td>\n",
       "      <td>Überflutete Straße bayerischen Penzberg Starkr...</td>\n",
       "      <td>Real</td>\n",
       "    </tr>\n",
       "    <tr>\n",
       "      <th>2</th>\n",
       "      <td>Olympia 2021: Triathlon Männer beginnt kuriose...</td>\n",
       "      <td>Panne Olympia: Teil Triathleten wurde Boot bei...</td>\n",
       "      <td>Real</td>\n",
       "    </tr>\n",
       "    <tr>\n",
       "      <th>3</th>\n",
       "      <td>Galeria Karstadt Kaufhof kündigt Neustart einh...</td>\n",
       "      <td>Filiale Galeria Kaufhof Köln Reihenweise Filia...</td>\n",
       "      <td>Real</td>\n",
       "    </tr>\n",
       "    <tr>\n",
       "      <th>4</th>\n",
       "      <td>Olympia heute – Tag drei: Nacht geschah Tag br...</td>\n",
       "      <td>Sideris Tasiadis peilt Medaille Fehlstart beim...</td>\n",
       "      <td>Real</td>\n",
       "    </tr>\n",
       "  </tbody>\n",
       "</table>\n",
       "</div>"
      ],
      "text/plain": [
       "                                              titles  \\\n",
       "0  Corona-Pandemie: Christine Lambrecht (SPD) spr...   \n",
       "1  Unwetter Sachsen, Bayern Berlin: 67-Jähriger s...   \n",
       "2  Olympia 2021: Triathlon Männer beginnt kuriose...   \n",
       "3  Galeria Karstadt Kaufhof kündigt Neustart einh...   \n",
       "4  Olympia heute – Tag drei: Nacht geschah Tag br...   \n",
       "\n",
       "                                             content label  \n",
       "0  Bundesinnenminister Horst Seehofer (CSU), Bund...  Real  \n",
       "1  Überflutete Straße bayerischen Penzberg Starkr...  Real  \n",
       "2  Panne Olympia: Teil Triathleten wurde Boot bei...  Real  \n",
       "3  Filiale Galeria Kaufhof Köln Reihenweise Filia...  Real  \n",
       "4  Sideris Tasiadis peilt Medaille Fehlstart beim...  Real  "
      ]
     },
     "execution_count": 67,
     "metadata": {},
     "output_type": "execute_result"
    }
   ],
   "source": [
    "ger_news_complete.head()"
   ]
  },
  {
   "cell_type": "code",
   "execution_count": 68,
   "id": "529de5b1",
   "metadata": {},
   "outputs": [],
   "source": [
    "eng_news_complete['content'] = eng_news_complete['content'].str.split(' ').apply(lambda content:\n",
    "    ' '.join([word for word in content if word not in english_stop_words]))"
   ]
  },
  {
   "cell_type": "code",
   "execution_count": 69,
   "id": "29ed0c82",
   "metadata": {},
   "outputs": [],
   "source": [
    "eng_news_complete['title'] = eng_news_complete['title'].str.split(' ').apply(lambda content:\n",
    "    ' '.join([word for word in content if word not in english_stop_words]))"
   ]
  },
  {
   "cell_type": "code",
   "execution_count": 70,
   "id": "81524136",
   "metadata": {},
   "outputs": [
    {
     "data": {
      "text/html": [
       "<div>\n",
       "<style scoped>\n",
       "    .dataframe tbody tr th:only-of-type {\n",
       "        vertical-align: middle;\n",
       "    }\n",
       "\n",
       "    .dataframe tbody tr th {\n",
       "        vertical-align: top;\n",
       "    }\n",
       "\n",
       "    .dataframe thead th {\n",
       "        text-align: right;\n",
       "    }\n",
       "</style>\n",
       "<table border=\"1\" class=\"dataframe\">\n",
       "  <thead>\n",
       "    <tr style=\"text-align: right;\">\n",
       "      <th></th>\n",
       "      <th>title</th>\n",
       "      <th>content</th>\n",
       "      <th>label</th>\n",
       "    </tr>\n",
       "  </thead>\n",
       "  <tbody>\n",
       "    <tr>\n",
       "      <th>0</th>\n",
       "      <td>Donald Trump Sends Out Embarrassing New Year’...</td>\n",
       "      <td>Donald Trump wish Americans Happy New Year lea...</td>\n",
       "      <td>Fake</td>\n",
       "    </tr>\n",
       "    <tr>\n",
       "      <th>1</th>\n",
       "      <td>Drunk Bragging Trump Staffer Started Russian ...</td>\n",
       "      <td>House Intelligence Committee Chairman Devin Nu...</td>\n",
       "      <td>Fake</td>\n",
       "    </tr>\n",
       "    <tr>\n",
       "      <th>2</th>\n",
       "      <td>Sheriff David Clarke Becomes An Internet Joke...</td>\n",
       "      <td>On Friday, revealed former Milwaukee Sheriff D...</td>\n",
       "      <td>Fake</td>\n",
       "    </tr>\n",
       "    <tr>\n",
       "      <th>3</th>\n",
       "      <td>Trump Is So Obsessed He Even Has Obama’s Name...</td>\n",
       "      <td>On Christmas day, Donald Trump announced would...</td>\n",
       "      <td>Fake</td>\n",
       "    </tr>\n",
       "    <tr>\n",
       "      <th>4</th>\n",
       "      <td>Pope Francis Just Called Out Donald Trump Dur...</td>\n",
       "      <td>Pope Francis used annual Christmas Day message...</td>\n",
       "      <td>Fake</td>\n",
       "    </tr>\n",
       "  </tbody>\n",
       "</table>\n",
       "</div>"
      ],
      "text/plain": [
       "                                               title  \\\n",
       "0   Donald Trump Sends Out Embarrassing New Year’...   \n",
       "1   Drunk Bragging Trump Staffer Started Russian ...   \n",
       "2   Sheriff David Clarke Becomes An Internet Joke...   \n",
       "3   Trump Is So Obsessed He Even Has Obama’s Name...   \n",
       "4   Pope Francis Just Called Out Donald Trump Dur...   \n",
       "\n",
       "                                             content label  \n",
       "0  Donald Trump wish Americans Happy New Year lea...  Fake  \n",
       "1  House Intelligence Committee Chairman Devin Nu...  Fake  \n",
       "2  On Friday, revealed former Milwaukee Sheriff D...  Fake  \n",
       "3  On Christmas day, Donald Trump announced would...  Fake  \n",
       "4  Pope Francis used annual Christmas Day message...  Fake  "
      ]
     },
     "execution_count": 70,
     "metadata": {},
     "output_type": "execute_result"
    }
   ],
   "source": [
    "eng_news_complete.head()"
   ]
  },
  {
   "cell_type": "code",
   "execution_count": 71,
   "id": "60b60c7a",
   "metadata": {},
   "outputs": [],
   "source": [
    "eng_news_complete['content'] = eng_news_complete['content'].replace(r'\\n',' ', regex=True)"
   ]
  },
  {
   "cell_type": "code",
   "execution_count": 72,
   "id": "3ffad304",
   "metadata": {},
   "outputs": [],
   "source": [
    "eng_news_complete['title'] = eng_news_complete['title'].replace(r'\\n',' ', regex=True)"
   ]
  },
  {
   "cell_type": "code",
   "execution_count": 73,
   "id": "f673f00b",
   "metadata": {},
   "outputs": [
    {
     "data": {
      "text/html": [
       "<div>\n",
       "<style scoped>\n",
       "    .dataframe tbody tr th:only-of-type {\n",
       "        vertical-align: middle;\n",
       "    }\n",
       "\n",
       "    .dataframe tbody tr th {\n",
       "        vertical-align: top;\n",
       "    }\n",
       "\n",
       "    .dataframe thead th {\n",
       "        text-align: right;\n",
       "    }\n",
       "</style>\n",
       "<table border=\"1\" class=\"dataframe\">\n",
       "  <thead>\n",
       "    <tr style=\"text-align: right;\">\n",
       "      <th></th>\n",
       "      <th>title</th>\n",
       "      <th>content</th>\n",
       "      <th>label</th>\n",
       "    </tr>\n",
       "  </thead>\n",
       "  <tbody>\n",
       "    <tr>\n",
       "      <th>0</th>\n",
       "      <td>Donald Trump Sends Out Embarrassing New Year’...</td>\n",
       "      <td>Donald Trump wish Americans Happy New Year lea...</td>\n",
       "      <td>Fake</td>\n",
       "    </tr>\n",
       "    <tr>\n",
       "      <th>1</th>\n",
       "      <td>Drunk Bragging Trump Staffer Started Russian ...</td>\n",
       "      <td>House Intelligence Committee Chairman Devin Nu...</td>\n",
       "      <td>Fake</td>\n",
       "    </tr>\n",
       "    <tr>\n",
       "      <th>2</th>\n",
       "      <td>Sheriff David Clarke Becomes An Internet Joke...</td>\n",
       "      <td>On Friday, revealed former Milwaukee Sheriff D...</td>\n",
       "      <td>Fake</td>\n",
       "    </tr>\n",
       "    <tr>\n",
       "      <th>3</th>\n",
       "      <td>Trump Is So Obsessed He Even Has Obama’s Name...</td>\n",
       "      <td>On Christmas day, Donald Trump announced would...</td>\n",
       "      <td>Fake</td>\n",
       "    </tr>\n",
       "    <tr>\n",
       "      <th>4</th>\n",
       "      <td>Pope Francis Just Called Out Donald Trump Dur...</td>\n",
       "      <td>Pope Francis used annual Christmas Day message...</td>\n",
       "      <td>Fake</td>\n",
       "    </tr>\n",
       "  </tbody>\n",
       "</table>\n",
       "</div>"
      ],
      "text/plain": [
       "                                               title  \\\n",
       "0   Donald Trump Sends Out Embarrassing New Year’...   \n",
       "1   Drunk Bragging Trump Staffer Started Russian ...   \n",
       "2   Sheriff David Clarke Becomes An Internet Joke...   \n",
       "3   Trump Is So Obsessed He Even Has Obama’s Name...   \n",
       "4   Pope Francis Just Called Out Donald Trump Dur...   \n",
       "\n",
       "                                             content label  \n",
       "0  Donald Trump wish Americans Happy New Year lea...  Fake  \n",
       "1  House Intelligence Committee Chairman Devin Nu...  Fake  \n",
       "2  On Friday, revealed former Milwaukee Sheriff D...  Fake  \n",
       "3  On Christmas day, Donald Trump announced would...  Fake  \n",
       "4  Pope Francis used annual Christmas Day message...  Fake  "
      ]
     },
     "execution_count": 73,
     "metadata": {},
     "output_type": "execute_result"
    }
   ],
   "source": [
    "eng_news_complete.head()"
   ]
  },
  {
   "cell_type": "code",
   "execution_count": 74,
   "id": "86251470",
   "metadata": {},
   "outputs": [],
   "source": [
    "complete_news_clean = pd.concat([eng_news_complete, ger_news_complete], join ='inner')"
   ]
  },
  {
   "cell_type": "code",
   "execution_count": 75,
   "id": "faea1e27",
   "metadata": {},
   "outputs": [
    {
     "name": "stdout",
     "output_type": "stream",
     "text": [
      "<class 'pandas.core.frame.DataFrame'>\n",
      "Int64Index: 48415 entries, 0 to 83\n",
      "Data columns (total 2 columns):\n",
      " #   Column   Non-Null Count  Dtype \n",
      "---  ------   --------------  ----- \n",
      " 0   content  48415 non-null  object\n",
      " 1   label    48415 non-null  object\n",
      "dtypes: object(2)\n",
      "memory usage: 1.1+ MB\n"
     ]
    }
   ],
   "source": [
    "complete_news_clean.info()"
   ]
  },
  {
   "cell_type": "code",
   "execution_count": 76,
   "id": "22945545",
   "metadata": {},
   "outputs": [],
   "source": [
    "test['content'] = test['content'].str.split(' ').apply(lambda content:\n",
    "    ' '.join([word for word in content if word not in english_stop_words]))"
   ]
  },
  {
   "cell_type": "code",
   "execution_count": 77,
   "id": "73a3872c",
   "metadata": {},
   "outputs": [],
   "source": [
    "test['title'] = test['title'].str.split(' ').apply(lambda content:\n",
    "    ' '.join([word for word in content if word not in english_stop_words]))"
   ]
  },
  {
   "cell_type": "code",
   "execution_count": 78,
   "id": "36a2f611",
   "metadata": {},
   "outputs": [],
   "source": [
    "test['content'] = test['content'].str.split(' ').apply(lambda content:\n",
    "    ' '.join([word for word in content if word not in german_stop_words]))"
   ]
  },
  {
   "cell_type": "code",
   "execution_count": 79,
   "id": "fdc113cf",
   "metadata": {},
   "outputs": [],
   "source": [
    "test['title'] = test['title'].str.split(' ').apply(lambda content:\n",
    "    ' '.join([word for word in content if word not in german_stop_words]))"
   ]
  },
  {
   "cell_type": "code",
   "execution_count": 80,
   "id": "11bb7403",
   "metadata": {},
   "outputs": [],
   "source": [
    "test.to_csv('test_bilingual.csv', index = False)\n",
    "eng_news_complete.to_csv('eng_news_clean.csv', index = False)\n",
    "ger_news_complete.to_csv('ger_news_clean.csv', index = False)\n",
    "complete_news_clean.to_csv('complete_news_clean.csv', index = False)"
   ]
  }
 ],
 "metadata": {
  "kernelspec": {
   "display_name": "Python 3",
   "language": "python",
   "name": "python3"
  },
  "language_info": {
   "codemirror_mode": {
    "name": "ipython",
    "version": 3
   },
   "file_extension": ".py",
   "mimetype": "text/x-python",
   "name": "python",
   "nbconvert_exporter": "python",
   "pygments_lexer": "ipython3",
   "version": "3.8.8"
  }
 },
 "nbformat": 4,
 "nbformat_minor": 5
}
