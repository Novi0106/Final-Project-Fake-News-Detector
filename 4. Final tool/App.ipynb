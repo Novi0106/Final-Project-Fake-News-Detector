{
 "cells": [
  {
   "cell_type": "code",
   "execution_count": 2,
   "id": "097ab855",
   "metadata": {},
   "outputs": [],
   "source": [
    "# We'll import streamlit to create a very basic interface for our model\n",
    "import streamlit as st"
   ]
  },
  {
   "cell_type": "code",
   "execution_count": 2,
   "id": "f745c4d7",
   "metadata": {},
   "outputs": [],
   "source": [
    "# Import the functions we wrote for identifying fake news\n",
    "\n",
    "from Fake_News_Classifier_Functions import process_inputs\n",
    "from Fake_News_Classifier_Functions import process_csv\n",
    "from Fake_News_Classifier_Functions import news_classification"
   ]
  },
  {
   "cell_type": "code",
   "execution_count": 7,
   "id": "374c102f",
   "metadata": {},
   "outputs": [],
   "source": [
    "# Set the basic parameters for streamlit and identify input formats\n",
    "\n",
    "st.title('Fake News Check')\n",
    "\n",
    "uploaded_file = st.file_uploader(\"Choose a .txt or .csv file as input\", [\"txt\",\"csv\"])\n",
    "\n",
    "st.write('Or')\n",
    "\n",
    "free_text = st.text_area(\"Please enter the content of the news article\")"
   ]
  },
  {
   "cell_type": "code",
   "execution_count": null,
   "id": "c54ac780",
   "metadata": {},
   "outputs": [],
   "source": [
    "# Define the conditions on when to run which function and what message to return\n",
    "\n",
    "if free_text:\n",
    "    news = process_inputs(free_text)\n",
    "    classification = news_classification(news)\n",
    "    if classification == 'Real':\n",
    "        st.subheader(f'Those news look like they are {classification}')\n",
    "        st.image('real.gif')\n",
    "    else:\n",
    "        st.subheader(f'Those news look like they are {classification}')\n",
    "        st.image('fake.gif')\n",
    "\n",
    "elif uploaded_file is not None:\n",
    "    news = uploaded_file.read()\n",
    "    news = process_inputs(str(news))\n",
    "    classification = news_classification(news)\n",
    "    if classification == 'Real':\n",
    "        st.subheader(f'Those news look like they are {classification}')\n",
    "        st.image('real.gif')\n",
    "    else:\n",
    "        st.subheader(f'Those news look like they are {classification}')\n",
    "        st.image('fake.gif')"
   ]
  },
  {
   "cell_type": "code",
   "execution_count": null,
   "id": "971a81cf",
   "metadata": {},
   "outputs": [],
   "source": []
  }
 ],
 "metadata": {
  "kernelspec": {
   "display_name": "Python 3",
   "language": "python",
   "name": "python3"
  },
  "language_info": {
   "codemirror_mode": {
    "name": "ipython",
    "version": 3
   },
   "file_extension": ".py",
   "mimetype": "text/x-python",
   "name": "python",
   "nbconvert_exporter": "python",
   "pygments_lexer": "ipython3",
   "version": "3.8.8"
  }
 },
 "nbformat": 4,
 "nbformat_minor": 5
}
