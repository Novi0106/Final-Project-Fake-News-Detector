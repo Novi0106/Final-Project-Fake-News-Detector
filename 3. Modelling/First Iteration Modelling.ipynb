{
 "cells": [
  {
   "cell_type": "code",
   "execution_count": 11,
   "id": "f1d438eb",
   "metadata": {},
   "outputs": [],
   "source": [
    "import pandas as pd\n",
    "import numpy as np\n",
    "\n",
    "from sklearn.model_selection import train_test_split\n",
    "from sklearn.metrics import confusion_matrix, accuracy_score\n",
    "\n",
    "# Import the tfidf vectorizer to quantify the significance of words within and across documents\n",
    "from sklearn.feature_extraction.text import TfidfVectorizer\n",
    "\n",
    "# Import the PassiveAggressiveClassifier as the model to classify news later\n",
    "from sklearn.linear_model import PassiveAggressiveClassifier\n",
    "\n",
    "# We will also import cross_val_score to validate the model by cross-checking beyond the confusion matrix\n",
    "from sklearn.model_selection import cross_val_score"
   ]
  },
  {
   "cell_type": "code",
   "execution_count": 4,
   "id": "9fa4f8e8",
   "metadata": {},
   "outputs": [
    {
     "name": "stdout",
     "output_type": "stream",
     "text": [
      "First Iteration Modelling.ipynb eng_news_clean.csv\r\n",
      "complete_news_clean.csv         ger_news_clean.csv\r\n"
     ]
    }
   ],
   "source": [
    "# ls for file-name references\n",
    "!ls"
   ]
  },
  {
   "cell_type": "markdown",
   "id": "f5d2b3bf",
   "metadata": {},
   "source": [
    "### Model with English articles only"
   ]
  },
  {
   "cell_type": "code",
   "execution_count": 5,
   "id": "58cff9f6",
   "metadata": {},
   "outputs": [],
   "source": [
    "english_news = pd.read_csv('eng_news_clean.csv')"
   ]
  },
  {
   "cell_type": "code",
   "execution_count": 6,
   "id": "ba3eac6e",
   "metadata": {},
   "outputs": [
    {
     "data": {
      "text/html": [
       "<div>\n",
       "<style scoped>\n",
       "    .dataframe tbody tr th:only-of-type {\n",
       "        vertical-align: middle;\n",
       "    }\n",
       "\n",
       "    .dataframe tbody tr th {\n",
       "        vertical-align: top;\n",
       "    }\n",
       "\n",
       "    .dataframe thead th {\n",
       "        text-align: right;\n",
       "    }\n",
       "</style>\n",
       "<table border=\"1\" class=\"dataframe\">\n",
       "  <thead>\n",
       "    <tr style=\"text-align: right;\">\n",
       "      <th></th>\n",
       "      <th>title</th>\n",
       "      <th>content</th>\n",
       "      <th>label</th>\n",
       "    </tr>\n",
       "  </thead>\n",
       "  <tbody>\n",
       "    <tr>\n",
       "      <th>0</th>\n",
       "      <td>Four ways Bob Corker skewered Donald Trump</td>\n",
       "      <td>Image copyright Getty Images On Sunday morning...</td>\n",
       "      <td>1</td>\n",
       "    </tr>\n",
       "    <tr>\n",
       "      <th>1</th>\n",
       "      <td>Linklater's war veteran comedy speaks modern A...</td>\n",
       "      <td>LONDON (Reuters) - “Last Flag Flying”, comedy-...</td>\n",
       "      <td>1</td>\n",
       "    </tr>\n",
       "    <tr>\n",
       "      <th>2</th>\n",
       "      <td>Trump’s Fight With Corker Jeopardizes His Legi...</td>\n",
       "      <td>The feud broke public view last week Mr. Corke...</td>\n",
       "      <td>1</td>\n",
       "    </tr>\n",
       "    <tr>\n",
       "      <th>3</th>\n",
       "      <td>Egypt's Cheiron wins tie-up Pemex Mexican onsh...</td>\n",
       "      <td>MEXICO CITY (Reuters) - Egypt’s Cheiron Holdin...</td>\n",
       "      <td>1</td>\n",
       "    </tr>\n",
       "    <tr>\n",
       "      <th>4</th>\n",
       "      <td>Jason Aldean opens 'SNL' Vegas tribute</td>\n",
       "      <td>Country singer Jason Aldean, performing Las Ve...</td>\n",
       "      <td>1</td>\n",
       "    </tr>\n",
       "  </tbody>\n",
       "</table>\n",
       "</div>"
      ],
      "text/plain": [
       "                                               title  \\\n",
       "0         Four ways Bob Corker skewered Donald Trump   \n",
       "1  Linklater's war veteran comedy speaks modern A...   \n",
       "2  Trump’s Fight With Corker Jeopardizes His Legi...   \n",
       "3  Egypt's Cheiron wins tie-up Pemex Mexican onsh...   \n",
       "4             Jason Aldean opens 'SNL' Vegas tribute   \n",
       "\n",
       "                                             content  label  \n",
       "0  Image copyright Getty Images On Sunday morning...      1  \n",
       "1  LONDON (Reuters) - “Last Flag Flying”, comedy-...      1  \n",
       "2  The feud broke public view last week Mr. Corke...      1  \n",
       "3  MEXICO CITY (Reuters) - Egypt’s Cheiron Holdin...      1  \n",
       "4  Country singer Jason Aldean, performing Las Ve...      1  "
      ]
     },
     "execution_count": 6,
     "metadata": {},
     "output_type": "execute_result"
    }
   ],
   "source": [
    "english_news.head()"
   ]
  },
  {
   "cell_type": "code",
   "execution_count": 10,
   "id": "89637ccb",
   "metadata": {},
   "outputs": [],
   "source": [
    "label_converter = {1:'Real', 0:'Fake'}\n",
    "\n",
    "english_news = english_news.replace({'label' : label_converter})"
   ]
  },
  {
   "cell_type": "code",
   "execution_count": 37,
   "id": "9a4b427d",
   "metadata": {},
   "outputs": [],
   "source": [
    "X = english_news['content']"
   ]
  },
  {
   "cell_type": "code",
   "execution_count": 38,
   "id": "6c7d53c7",
   "metadata": {},
   "outputs": [
    {
     "data": {
      "text/plain": [
       "(3988,)"
      ]
     },
     "execution_count": 38,
     "metadata": {},
     "output_type": "execute_result"
    }
   ],
   "source": [
    "X.shape"
   ]
  },
  {
   "cell_type": "code",
   "execution_count": 26,
   "id": "dc688eed",
   "metadata": {},
   "outputs": [],
   "source": [
    "y = english_news['label']"
   ]
  },
  {
   "cell_type": "code",
   "execution_count": 27,
   "id": "bd746c4d",
   "metadata": {},
   "outputs": [
    {
     "data": {
      "text/plain": [
       "(3988,)"
      ]
     },
     "execution_count": 27,
     "metadata": {},
     "output_type": "execute_result"
    }
   ],
   "source": [
    "y.shape"
   ]
  },
  {
   "cell_type": "code",
   "execution_count": 39,
   "id": "584bd828",
   "metadata": {},
   "outputs": [],
   "source": [
    "X_train, X_test, y_train, y_test = train_test_split(X, y, test_size = 0.2, random_state = 40)"
   ]
  },
  {
   "cell_type": "code",
   "execution_count": 106,
   "id": "223fe3bb",
   "metadata": {},
   "outputs": [],
   "source": [
    "# We are not selecting stop words, since those have been cleaned out already\n",
    "\n",
    "tfidf = TfidfVectorizer()"
   ]
  },
  {
   "cell_type": "code",
   "execution_count": 40,
   "id": "b0576ed6",
   "metadata": {},
   "outputs": [],
   "source": [
    "# Fit the data into the model to learn the vocabulary\n",
    "\n",
    "tfidf_train =tfidf.fit_transform(X_train) \n",
    "tfidf_test =tfidf.transform(X_test)"
   ]
  },
  {
   "cell_type": "code",
   "execution_count": 41,
   "id": "d67af889",
   "metadata": {},
   "outputs": [
    {
     "data": {
      "text/plain": [
       "PassiveAggressiveClassifier(max_iter=50)"
      ]
     },
     "execution_count": 41,
     "metadata": {},
     "output_type": "execute_result"
    }
   ],
   "source": [
    "pac = PassiveAggressiveClassifier(max_iter = 50)\n",
    "\n",
    "pac.fit(tfidf_train,y_train)"
   ]
  },
  {
   "cell_type": "code",
   "execution_count": 42,
   "id": "ed1d469c",
   "metadata": {},
   "outputs": [
    {
     "name": "stdout",
     "output_type": "stream",
     "text": [
      "Accuracy: 99.37%\n"
     ]
    }
   ],
   "source": [
    "y_pred=pac.predict(tfidf_test)\n",
    "\n",
    "score=accuracy_score(y_test,y_pred)\n",
    "\n",
    "print(f'Accuracy: {round(score*100,2)}%')"
   ]
  },
  {
   "cell_type": "code",
   "execution_count": 44,
   "id": "d261fb2f",
   "metadata": {},
   "outputs": [
    {
     "data": {
      "text/plain": [
       "array([[419,   3],\n",
       "       [  2, 374]])"
      ]
     },
     "execution_count": 44,
     "metadata": {},
     "output_type": "execute_result"
    }
   ],
   "source": [
    "confusion_matrix(y_test,y_pred, labels=['Fake','Real'])"
   ]
  },
  {
   "cell_type": "markdown",
   "id": "dcd41e83",
   "metadata": {},
   "source": [
    "### Model with German articles only"
   ]
  },
  {
   "cell_type": "code",
   "execution_count": 95,
   "id": "eb5479f9",
   "metadata": {},
   "outputs": [],
   "source": [
    "german_news = pd.read_csv('ger_news_clean.csv')"
   ]
  },
  {
   "cell_type": "code",
   "execution_count": 107,
   "id": "23f9c658",
   "metadata": {},
   "outputs": [
    {
     "data": {
      "text/html": [
       "<div>\n",
       "<style scoped>\n",
       "    .dataframe tbody tr th:only-of-type {\n",
       "        vertical-align: middle;\n",
       "    }\n",
       "\n",
       "    .dataframe tbody tr th {\n",
       "        vertical-align: top;\n",
       "    }\n",
       "\n",
       "    .dataframe thead th {\n",
       "        text-align: right;\n",
       "    }\n",
       "</style>\n",
       "<table border=\"1\" class=\"dataframe\">\n",
       "  <thead>\n",
       "    <tr style=\"text-align: right;\">\n",
       "      <th></th>\n",
       "      <th>titles</th>\n",
       "      <th>content</th>\n",
       "      <th>label</th>\n",
       "    </tr>\n",
       "  </thead>\n",
       "  <tbody>\n",
       "    <tr>\n",
       "      <th>0</th>\n",
       "      <td>Corona-Pandemie: Christine Lambrecht (SPD) spr...</td>\n",
       "      <td>Bundesinnenminister Horst Seehofer (CSU), Bund...</td>\n",
       "      <td>Real</td>\n",
       "    </tr>\n",
       "    <tr>\n",
       "      <th>1</th>\n",
       "      <td>Unwetter Sachsen, Bayern Berlin: 67-Jähriger s...</td>\n",
       "      <td>Überflutete Straße bayerischen Penzberg Starkr...</td>\n",
       "      <td>Real</td>\n",
       "    </tr>\n",
       "    <tr>\n",
       "      <th>2</th>\n",
       "      <td>Olympia 2021: Triathlon Männer beginnt kuriose...</td>\n",
       "      <td>Panne Olympia: Teil Triathleten wurde Boot bei...</td>\n",
       "      <td>Real</td>\n",
       "    </tr>\n",
       "    <tr>\n",
       "      <th>3</th>\n",
       "      <td>Galeria Karstadt Kaufhof kündigt Neustart einh...</td>\n",
       "      <td>Filiale Galeria Kaufhof Köln Reihenweise Filia...</td>\n",
       "      <td>Real</td>\n",
       "    </tr>\n",
       "    <tr>\n",
       "      <th>4</th>\n",
       "      <td>Olympia heute – Tag drei: Nacht geschah Tag br...</td>\n",
       "      <td>Sideris Tasiadis peilt Medaille Fehlstart beim...</td>\n",
       "      <td>Real</td>\n",
       "    </tr>\n",
       "  </tbody>\n",
       "</table>\n",
       "</div>"
      ],
      "text/plain": [
       "                                              titles  \\\n",
       "0  Corona-Pandemie: Christine Lambrecht (SPD) spr...   \n",
       "1  Unwetter Sachsen, Bayern Berlin: 67-Jähriger s...   \n",
       "2  Olympia 2021: Triathlon Männer beginnt kuriose...   \n",
       "3  Galeria Karstadt Kaufhof kündigt Neustart einh...   \n",
       "4  Olympia heute – Tag drei: Nacht geschah Tag br...   \n",
       "\n",
       "                                             content label  \n",
       "0  Bundesinnenminister Horst Seehofer (CSU), Bund...  Real  \n",
       "1  Überflutete Straße bayerischen Penzberg Starkr...  Real  \n",
       "2  Panne Olympia: Teil Triathleten wurde Boot bei...  Real  \n",
       "3  Filiale Galeria Kaufhof Köln Reihenweise Filia...  Real  \n",
       "4  Sideris Tasiadis peilt Medaille Fehlstart beim...  Real  "
      ]
     },
     "execution_count": 107,
     "metadata": {},
     "output_type": "execute_result"
    }
   ],
   "source": [
    "german_news.head()"
   ]
  },
  {
   "cell_type": "code",
   "execution_count": 108,
   "id": "0e5b87a8",
   "metadata": {},
   "outputs": [],
   "source": [
    "label_converter = {True:'Real', False:'Fake'}"
   ]
  },
  {
   "cell_type": "code",
   "execution_count": 109,
   "id": "f06e56cb",
   "metadata": {},
   "outputs": [],
   "source": [
    "german_news = german_news.replace({'label' : label_converter})"
   ]
  },
  {
   "cell_type": "code",
   "execution_count": 110,
   "id": "f2b35d4f",
   "metadata": {},
   "outputs": [
    {
     "data": {
      "text/html": [
       "<div>\n",
       "<style scoped>\n",
       "    .dataframe tbody tr th:only-of-type {\n",
       "        vertical-align: middle;\n",
       "    }\n",
       "\n",
       "    .dataframe tbody tr th {\n",
       "        vertical-align: top;\n",
       "    }\n",
       "\n",
       "    .dataframe thead th {\n",
       "        text-align: right;\n",
       "    }\n",
       "</style>\n",
       "<table border=\"1\" class=\"dataframe\">\n",
       "  <thead>\n",
       "    <tr style=\"text-align: right;\">\n",
       "      <th></th>\n",
       "      <th>titles</th>\n",
       "      <th>content</th>\n",
       "      <th>label</th>\n",
       "    </tr>\n",
       "  </thead>\n",
       "  <tbody>\n",
       "    <tr>\n",
       "      <th>0</th>\n",
       "      <td>Corona-Pandemie: Christine Lambrecht (SPD) spr...</td>\n",
       "      <td>Bundesinnenminister Horst Seehofer (CSU), Bund...</td>\n",
       "      <td>Real</td>\n",
       "    </tr>\n",
       "    <tr>\n",
       "      <th>1</th>\n",
       "      <td>Unwetter Sachsen, Bayern Berlin: 67-Jähriger s...</td>\n",
       "      <td>Überflutete Straße bayerischen Penzberg Starkr...</td>\n",
       "      <td>Real</td>\n",
       "    </tr>\n",
       "    <tr>\n",
       "      <th>2</th>\n",
       "      <td>Olympia 2021: Triathlon Männer beginnt kuriose...</td>\n",
       "      <td>Panne Olympia: Teil Triathleten wurde Boot bei...</td>\n",
       "      <td>Real</td>\n",
       "    </tr>\n",
       "    <tr>\n",
       "      <th>3</th>\n",
       "      <td>Galeria Karstadt Kaufhof kündigt Neustart einh...</td>\n",
       "      <td>Filiale Galeria Kaufhof Köln Reihenweise Filia...</td>\n",
       "      <td>Real</td>\n",
       "    </tr>\n",
       "    <tr>\n",
       "      <th>4</th>\n",
       "      <td>Olympia heute – Tag drei: Nacht geschah Tag br...</td>\n",
       "      <td>Sideris Tasiadis peilt Medaille Fehlstart beim...</td>\n",
       "      <td>Real</td>\n",
       "    </tr>\n",
       "  </tbody>\n",
       "</table>\n",
       "</div>"
      ],
      "text/plain": [
       "                                              titles  \\\n",
       "0  Corona-Pandemie: Christine Lambrecht (SPD) spr...   \n",
       "1  Unwetter Sachsen, Bayern Berlin: 67-Jähriger s...   \n",
       "2  Olympia 2021: Triathlon Männer beginnt kuriose...   \n",
       "3  Galeria Karstadt Kaufhof kündigt Neustart einh...   \n",
       "4  Olympia heute – Tag drei: Nacht geschah Tag br...   \n",
       "\n",
       "                                             content label  \n",
       "0  Bundesinnenminister Horst Seehofer (CSU), Bund...  Real  \n",
       "1  Überflutete Straße bayerischen Penzberg Starkr...  Real  \n",
       "2  Panne Olympia: Teil Triathleten wurde Boot bei...  Real  \n",
       "3  Filiale Galeria Kaufhof Köln Reihenweise Filia...  Real  \n",
       "4  Sideris Tasiadis peilt Medaille Fehlstart beim...  Real  "
      ]
     },
     "execution_count": 110,
     "metadata": {},
     "output_type": "execute_result"
    }
   ],
   "source": [
    "german_news.head()"
   ]
  },
  {
   "cell_type": "code",
   "execution_count": 111,
   "id": "408f5bb6",
   "metadata": {},
   "outputs": [],
   "source": [
    "X = german_news['content']"
   ]
  },
  {
   "cell_type": "code",
   "execution_count": 112,
   "id": "623391a1",
   "metadata": {},
   "outputs": [],
   "source": [
    "y = german_news['label']"
   ]
  },
  {
   "cell_type": "code",
   "execution_count": 113,
   "id": "4335fbd3",
   "metadata": {},
   "outputs": [],
   "source": [
    "X_train, X_test, y_train, y_test = train_test_split(X, y, test_size = 0.3, random_state = 40)"
   ]
  },
  {
   "cell_type": "code",
   "execution_count": 114,
   "id": "654db89d",
   "metadata": {},
   "outputs": [],
   "source": [
    "tfidf_train = tfidf.fit_transform(X_train) \n",
    "tfidf_test = tfidf.transform(X_test)"
   ]
  },
  {
   "cell_type": "code",
   "execution_count": 115,
   "id": "4c817ae2",
   "metadata": {},
   "outputs": [
    {
     "data": {
      "text/plain": [
       "PassiveAggressiveClassifier(max_iter=50)"
      ]
     },
     "execution_count": 115,
     "metadata": {},
     "output_type": "execute_result"
    }
   ],
   "source": [
    "pac = PassiveAggressiveClassifier(max_iter = 50)\n",
    "\n",
    "pac.fit(tfidf_train,y_train)"
   ]
  },
  {
   "cell_type": "code",
   "execution_count": 116,
   "id": "fd729250",
   "metadata": {},
   "outputs": [
    {
     "name": "stdout",
     "output_type": "stream",
     "text": [
      "Accuracy: 99.02%\n"
     ]
    }
   ],
   "source": [
    "y_pred = pac.predict(tfidf_test)\n",
    "\n",
    "score = accuracy_score(y_test,y_pred)\n",
    "\n",
    "print(f'Accuracy: {round(score*100,2)}%')"
   ]
  },
  {
   "cell_type": "code",
   "execution_count": 117,
   "id": "bfaaa3d6",
   "metadata": {},
   "outputs": [
    {
     "data": {
      "text/plain": [
       "array([[352,   2],\n",
       "       [  4, 256]])"
      ]
     },
     "execution_count": 117,
     "metadata": {},
     "output_type": "execute_result"
    }
   ],
   "source": [
    "confusion_matrix(y_test,y_pred, labels=['Fake','Real'])"
   ]
  },
  {
   "cell_type": "code",
   "execution_count": null,
   "id": "716d0e53",
   "metadata": {},
   "outputs": [],
   "source": []
  }
 ],
 "metadata": {
  "kernelspec": {
   "display_name": "Python 3",
   "language": "python",
   "name": "python3"
  },
  "language_info": {
   "codemirror_mode": {
    "name": "ipython",
    "version": 3
   },
   "file_extension": ".py",
   "mimetype": "text/x-python",
   "name": "python",
   "nbconvert_exporter": "python",
   "pygments_lexer": "ipython3",
   "version": "3.8.8"
  }
 },
 "nbformat": 4,
 "nbformat_minor": 5
}
