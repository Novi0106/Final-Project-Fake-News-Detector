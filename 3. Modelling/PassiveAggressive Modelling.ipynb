{
 "cells": [
  {
   "cell_type": "code",
   "execution_count": 336,
   "id": "f1d438eb",
   "metadata": {},
   "outputs": [],
   "source": [
    "import pandas as pd\n",
    "import numpy as np\n",
    "\n",
    "from sklearn.model_selection import train_test_split\n",
    "from sklearn.metrics import confusion_matrix, accuracy_score, plot_confusion_matrix\n",
    "\n",
    "# Import the tfidf vectorizer to quantify the significance of words within and across documents\n",
    "from sklearn.feature_extraction.text import TfidfVectorizer\n",
    "\n",
    "# Import the PassiveAggressiveClassifier as the model to classify news later\n",
    "from sklearn.linear_model import PassiveAggressiveClassifier\n",
    "\n",
    "# We will also import seaborn and matplot to visualise accuracy\n",
    "import seaborn as sns\n",
    "import matplotlib.pyplot as plt"
   ]
  },
  {
   "cell_type": "code",
   "execution_count": 337,
   "id": "9fa4f8e8",
   "metadata": {},
   "outputs": [
    {
     "name": "stdout",
     "output_type": "stream",
     "text": [
      "PassiveAggressive Modelling.ipynb ger_news_clean.csv\r\n",
      "complete_news_clean.csv           luzz.csv\r\n",
      "eng_news_clean.csv                test_bilingual.csv\r\n"
     ]
    }
   ],
   "source": [
    "# ls for file-name references\n",
    "!ls"
   ]
  },
  {
   "cell_type": "markdown",
   "id": "f5d2b3bf",
   "metadata": {},
   "source": [
    "### Model with English articles only"
   ]
  },
  {
   "cell_type": "code",
   "execution_count": 338,
   "id": "58cff9f6",
   "metadata": {},
   "outputs": [],
   "source": [
    "# For an unexplicable reason the converted .csv file was giving back an error in tokenizing the data\n",
    "# So, we choose to declare the engine as python and \n",
    "english_news = pd.read_csv('eng_news_clean.csv',engine = 'python',error_bad_lines=False)"
   ]
  },
  {
   "cell_type": "code",
   "execution_count": 339,
   "id": "ba3eac6e",
   "metadata": {},
   "outputs": [],
   "source": [
    "# The error seems to have been stemming from content & label, since now some rows null values\n",
    "# That is not a big issue at this point, since we do not need the title column\n",
    "english_news = english_news.dropna()"
   ]
  },
  {
   "cell_type": "code",
   "execution_count": 340,
   "id": "1a16e2f0",
   "metadata": {},
   "outputs": [],
   "source": [
    "english_news = english_news.reset_index(drop=True)"
   ]
  },
  {
   "cell_type": "code",
   "execution_count": 341,
   "id": "89637ccb",
   "metadata": {},
   "outputs": [],
   "source": [
    "# We convert our boleean values into actual labels\n",
    "\n",
    "label_converter = {1:'Real', 0:'Fake'}\n",
    "\n",
    "english_news = english_news.replace({'label' : label_converter})"
   ]
  },
  {
   "cell_type": "code",
   "execution_count": 342,
   "id": "9a4b427d",
   "metadata": {},
   "outputs": [],
   "source": [
    "# We will only use article content as the input\n",
    "# The reason here is that the passiveaggressive classifier won't be able to handle 2 inputs\n",
    "\n",
    "X = english_news['content']"
   ]
  },
  {
   "cell_type": "code",
   "execution_count": 343,
   "id": "6c7d53c7",
   "metadata": {},
   "outputs": [
    {
     "data": {
      "text/plain": [
       "(44898,)"
      ]
     },
     "execution_count": 343,
     "metadata": {},
     "output_type": "execute_result"
    }
   ],
   "source": [
    "X.shape"
   ]
  },
  {
   "cell_type": "code",
   "execution_count": 344,
   "id": "dc688eed",
   "metadata": {},
   "outputs": [],
   "source": [
    "y = english_news['label']"
   ]
  },
  {
   "cell_type": "code",
   "execution_count": 345,
   "id": "bd746c4d",
   "metadata": {},
   "outputs": [
    {
     "data": {
      "text/plain": [
       "(44898,)"
      ]
     },
     "execution_count": 345,
     "metadata": {},
     "output_type": "execute_result"
    }
   ],
   "source": [
    "y.shape"
   ]
  },
  {
   "cell_type": "code",
   "execution_count": 346,
   "id": "584bd828",
   "metadata": {},
   "outputs": [],
   "source": [
    "X_train, X_test, y_train, y_test = train_test_split(X, y, test_size = 0.2, random_state = 40)"
   ]
  },
  {
   "cell_type": "code",
   "execution_count": 347,
   "id": "223fe3bb",
   "metadata": {},
   "outputs": [],
   "source": [
    "# We are not selecting stop words, since those have been cleaned out already\n",
    "# max_df denotes a threshold of 95% for word occurrences\n",
    "# I put it fairly high since I removed stop words with NLTK before, but still want to safeguard about some that are missed\n",
    "# So words that occur in more than 95% of documents (or articles)\n",
    "\n",
    "tfidf = TfidfVectorizer(max_df = 0.95)"
   ]
  },
  {
   "cell_type": "code",
   "execution_count": 348,
   "id": "b0576ed6",
   "metadata": {},
   "outputs": [],
   "source": [
    "# Fit the data into the model to learn the vocabulary\n",
    "# Transform the test data to see if the vocabulary we built works fine\n",
    "# We use \"astype('U')\" to convert the input into unicode before encoding it\n",
    "# This is probably not so relevant for the English dataset\n",
    "# On the other hand the German alphabet has special characters lik Ü and Ä, so it'll be useful there\n",
    "\n",
    "tfidf_train =tfidf.fit_transform(X_train.astype('U')) \n",
    "tfidf_test =tfidf.transform(X_test.astype('U'))"
   ]
  },
  {
   "cell_type": "code",
   "execution_count": 349,
   "id": "d67af889",
   "metadata": {},
   "outputs": [
    {
     "data": {
      "text/plain": [
       "PassiveAggressiveClassifier(max_iter=50)"
      ]
     },
     "execution_count": 349,
     "metadata": {},
     "output_type": "execute_result"
    }
   ],
   "source": [
    "# Fitting the data into a passiveaggressiveclassifier\n",
    "# I sticked to 50 iterations, since the default is 1000 and there is no real gain in having more of them (see below)\n",
    "\n",
    "pac = PassiveAggressiveClassifier(max_iter = 50, shuffle = True)\n",
    "\n",
    "pac.fit(tfidf_train,y_train)"
   ]
  },
  {
   "cell_type": "code",
   "execution_count": 350,
   "id": "ed1d469c",
   "metadata": {},
   "outputs": [
    {
     "name": "stdout",
     "output_type": "stream",
     "text": [
      "Accuracy: 99.51%\n"
     ]
    }
   ],
   "source": [
    "# We test the model and print the accuracy score\n",
    "\n",
    "y_pred = pac.predict(tfidf_test)\n",
    "\n",
    "score = accuracy_score(y_test,y_pred)\n",
    "\n",
    "print('Accuracy: ' + str(round(score*100,2)) + '%')"
   ]
  },
  {
   "cell_type": "code",
   "execution_count": 351,
   "id": "d261fb2f",
   "metadata": {},
   "outputs": [
    {
     "data": {
      "text/plain": [
       "array([[4654,   23],\n",
       "       [  21, 4282]])"
      ]
     },
     "execution_count": 351,
     "metadata": {},
     "output_type": "execute_result"
    }
   ],
   "source": [
    "# We take a look at the results in a confusion matrix\n",
    "\n",
    "confusion_matrix(y_test,y_pred, labels=['Fake','Real'])"
   ]
  },
  {
   "cell_type": "code",
   "execution_count": 352,
   "id": "bf9f7f60",
   "metadata": {},
   "outputs": [
    {
     "data": {
      "image/png": "[encoded data removed]",
      "text/plain": [
       "<Figure size 432x288 with 2 Axes>"
      ]
     },
     "metadata": {
      "needs_background": "light"
     },
     "output_type": "display_data"
    }
   ],
   "source": [
    "classification = pac.fit(tfidf_train,y_train)\n",
    "\n",
    "accuracy_score(y_test, y_pred)\n",
    "confusion_matrix(y_test, y_pred)\n",
    "plot_confusion_matrix(classification, tfidf_test, y_test)\n",
    "plt.show();"
   ]
  },
  {
   "cell_type": "code",
   "execution_count": 353,
   "id": "58399fbf",
   "metadata": {},
   "outputs": [],
   "source": [
    "# For an additional check we look at the accuracy of the model depending on the iterations we choose\n",
    "# There is some degree of variability, so basically results change within a given threshold\n",
    "# Since there is no significant gain from it, we'll stick with 50 iterations\n",
    "\n",
    "iterations = range(50, 1500, 50)"
   ]
  },
  {
   "cell_type": "code",
   "execution_count": 354,
   "id": "f64b2af2",
   "metadata": {},
   "outputs": [],
   "source": [
    "scores = []\n",
    "\n",
    "for iteration in iterations:\n",
    "    pac = PassiveAggressiveClassifier(max_iter = iteration, shuffle = True)\n",
    "    pac.fit(tfidf_train,y_train)\n",
    "    y_pred = pac.predict(tfidf_test)\n",
    "    score = accuracy_score(y_test,y_pred)\n",
    "    scores.append(score)"
   ]
  },
  {
   "cell_type": "code",
   "execution_count": 355,
   "id": "600dc308",
   "metadata": {},
   "outputs": [
    {
     "data": {
      "image/png": "[encoded data removed]",
      "text/plain": [
       "<Figure size 1152x576 with 1 Axes>"
      ]
     },
     "metadata": {
      "needs_background": "light"
     },
     "output_type": "display_data"
    }
   ],
   "source": [
    "%matplotlib inline\n",
    "\n",
    "plt.figure(figsize=(16,8))\n",
    "plt.plot(iterations, scores, 'bx-');"
   ]
  },
  {
   "cell_type": "markdown",
   "id": "dcd41e83",
   "metadata": {},
   "source": [
    "### Model with German articles only\n",
    "\n",
    "We essentially repeat the same steps for the German dataset\n",
    "(Should have been more diligent with the labelling during data cleaning), but thank good there are dictionaries."
   ]
  },
  {
   "cell_type": "code",
   "execution_count": 356,
   "id": "eb5479f9",
   "metadata": {},
   "outputs": [],
   "source": [
    "german_news = pd.read_csv('ger_news_clean.csv')"
   ]
  },
  {
   "cell_type": "code",
   "execution_count": 357,
   "id": "23f9c658",
   "metadata": {},
   "outputs": [
    {
     "data": {
      "text/html": [
       "<div>\n",
       "<style scoped>\n",
       "    .dataframe tbody tr th:only-of-type {\n",
       "        vertical-align: middle;\n",
       "    }\n",
       "\n",
       "    .dataframe tbody tr th {\n",
       "        vertical-align: top;\n",
       "    }\n",
       "\n",
       "    .dataframe thead th {\n",
       "        text-align: right;\n",
       "    }\n",
       "</style>\n",
       "<table border=\"1\" class=\"dataframe\">\n",
       "  <thead>\n",
       "    <tr style=\"text-align: right;\">\n",
       "      <th></th>\n",
       "      <th>titles</th>\n",
       "      <th>content</th>\n",
       "      <th>label</th>\n",
       "    </tr>\n",
       "  </thead>\n",
       "  <tbody>\n",
       "    <tr>\n",
       "      <th>0</th>\n",
       "      <td>Corona-Pandemie: Christine Lambrecht (SPD) spr...</td>\n",
       "      <td>Bundesinnenminister Horst Seehofer (CSU), Bund...</td>\n",
       "      <td>Real</td>\n",
       "    </tr>\n",
       "    <tr>\n",
       "      <th>1</th>\n",
       "      <td>Unwetter Sachsen, Bayern Berlin: 67-Jähriger s...</td>\n",
       "      <td>Überflutete Straße bayerischen Penzberg Starkr...</td>\n",
       "      <td>Real</td>\n",
       "    </tr>\n",
       "    <tr>\n",
       "      <th>2</th>\n",
       "      <td>Olympia 2021: Triathlon Männer beginnt kuriose...</td>\n",
       "      <td>Panne Olympia: Teil Triathleten wurde Boot bei...</td>\n",
       "      <td>Real</td>\n",
       "    </tr>\n",
       "    <tr>\n",
       "      <th>3</th>\n",
       "      <td>Galeria Karstadt Kaufhof kündigt Neustart einh...</td>\n",
       "      <td>Filiale Galeria Kaufhof Köln Reihenweise Filia...</td>\n",
       "      <td>Real</td>\n",
       "    </tr>\n",
       "    <tr>\n",
       "      <th>4</th>\n",
       "      <td>Olympia heute – Tag drei: Nacht geschah Tag br...</td>\n",
       "      <td>Sideris Tasiadis peilt Medaille Fehlstart beim...</td>\n",
       "      <td>Real</td>\n",
       "    </tr>\n",
       "  </tbody>\n",
       "</table>\n",
       "</div>"
      ],
      "text/plain": [
       "                                              titles  \\\n",
       "0  Corona-Pandemie: Christine Lambrecht (SPD) spr...   \n",
       "1  Unwetter Sachsen, Bayern Berlin: 67-Jähriger s...   \n",
       "2  Olympia 2021: Triathlon Männer beginnt kuriose...   \n",
       "3  Galeria Karstadt Kaufhof kündigt Neustart einh...   \n",
       "4  Olympia heute – Tag drei: Nacht geschah Tag br...   \n",
       "\n",
       "                                             content label  \n",
       "0  Bundesinnenminister Horst Seehofer (CSU), Bund...  Real  \n",
       "1  Überflutete Straße bayerischen Penzberg Starkr...  Real  \n",
       "2  Panne Olympia: Teil Triathleten wurde Boot bei...  Real  \n",
       "3  Filiale Galeria Kaufhof Köln Reihenweise Filia...  Real  \n",
       "4  Sideris Tasiadis peilt Medaille Fehlstart beim...  Real  "
      ]
     },
     "execution_count": 357,
     "metadata": {},
     "output_type": "execute_result"
    }
   ],
   "source": [
    "german_news.head()"
   ]
  },
  {
   "cell_type": "code",
   "execution_count": 358,
   "id": "0e5b87a8",
   "metadata": {},
   "outputs": [],
   "source": [
    "label_converter = {True:'Real', False:'Fake'}"
   ]
  },
  {
   "cell_type": "code",
   "execution_count": 359,
   "id": "f06e56cb",
   "metadata": {},
   "outputs": [],
   "source": [
    "german_news = german_news.replace({'label' : label_converter})"
   ]
  },
  {
   "cell_type": "code",
   "execution_count": 360,
   "id": "f2b35d4f",
   "metadata": {},
   "outputs": [
    {
     "name": "stdout",
     "output_type": "stream",
     "text": [
      "<class 'pandas.core.frame.DataFrame'>\n",
      "RangeIndex: 3517 entries, 0 to 3516\n",
      "Data columns (total 3 columns):\n",
      " #   Column   Non-Null Count  Dtype \n",
      "---  ------   --------------  ----- \n",
      " 0   titles   3517 non-null   object\n",
      " 1   content  3517 non-null   object\n",
      " 2   label    3517 non-null   object\n",
      "dtypes: object(3)\n",
      "memory usage: 82.6+ KB\n"
     ]
    }
   ],
   "source": [
    "german_news.info()"
   ]
  },
  {
   "cell_type": "code",
   "execution_count": 361,
   "id": "408f5bb6",
   "metadata": {},
   "outputs": [],
   "source": [
    "X = german_news['content']"
   ]
  },
  {
   "cell_type": "code",
   "execution_count": 362,
   "id": "623391a1",
   "metadata": {},
   "outputs": [],
   "source": [
    "y = german_news['label']"
   ]
  },
  {
   "cell_type": "code",
   "execution_count": 363,
   "id": "4335fbd3",
   "metadata": {},
   "outputs": [],
   "source": [
    "X_train, X_test, y_train, y_test = train_test_split(X, y, test_size = 0.2, random_state = 40)"
   ]
  },
  {
   "cell_type": "code",
   "execution_count": 364,
   "id": "654db89d",
   "metadata": {},
   "outputs": [],
   "source": [
    "tfidf_train = tfidf.fit_transform(X_train.astype('U')) \n",
    "tfidf_test = tfidf.transform(X_test.astype('U'))"
   ]
  },
  {
   "cell_type": "code",
   "execution_count": 365,
   "id": "4c817ae2",
   "metadata": {},
   "outputs": [
    {
     "data": {
      "text/plain": [
       "PassiveAggressiveClassifier(max_iter=50)"
      ]
     },
     "execution_count": 365,
     "metadata": {},
     "output_type": "execute_result"
    }
   ],
   "source": [
    "pac = PassiveAggressiveClassifier(max_iter = 50)\n",
    "\n",
    "pac.fit(tfidf_train,y_train)"
   ]
  },
  {
   "cell_type": "code",
   "execution_count": 366,
   "id": "fd729250",
   "metadata": {},
   "outputs": [
    {
     "name": "stdout",
     "output_type": "stream",
     "text": [
      "Accuracy: 99.15%\n"
     ]
    }
   ],
   "source": [
    "y_pred = pac.predict(tfidf_test)\n",
    "\n",
    "score = accuracy_score(y_test,y_pred)\n",
    "\n",
    "print('Accuracy: ' + str(round(score*100,2)) + '%')"
   ]
  },
  {
   "cell_type": "code",
   "execution_count": 367,
   "id": "bfaaa3d6",
   "metadata": {},
   "outputs": [
    {
     "data": {
      "text/plain": [
       "array([[324,   2],\n",
       "       [  4, 374]])"
      ]
     },
     "execution_count": 367,
     "metadata": {},
     "output_type": "execute_result"
    }
   ],
   "source": [
    "confusion_matrix(y_test,y_pred, labels=['Fake','Real'])"
   ]
  },
  {
   "cell_type": "code",
   "execution_count": 368,
   "id": "9fd6b6a0",
   "metadata": {},
   "outputs": [
    {
     "data": {
      "image/png": "[encoded data removed]",
      "text/plain": [
       "<Figure size 432x288 with 2 Axes>"
      ]
     },
     "metadata": {
      "needs_background": "light"
     },
     "output_type": "display_data"
    }
   ],
   "source": [
    "classification = pac.fit(tfidf_train,y_train)\n",
    "\n",
    "accuracy_score(y_test, y_pred)\n",
    "confusion_matrix(y_test, y_pred)\n",
    "plot_confusion_matrix(classification, tfidf_test, y_test)\n",
    "plt.show();"
   ]
  },
  {
   "cell_type": "markdown",
   "id": "01de8831",
   "metadata": {},
   "source": [
    "### Run the model for 2 languages at once\n",
    "\n",
    "Now we will feed the model our complete data set to make it bilingual. ;)\n",
    "This is the final model we want to use for the actual tool."
   ]
  },
  {
   "cell_type": "code",
   "execution_count": 369,
   "id": "b0f8e9d3",
   "metadata": {},
   "outputs": [],
   "source": [
    "complete_news = pd.read_csv('complete_news_clean.csv')"
   ]
  },
  {
   "cell_type": "code",
   "execution_count": 370,
   "id": "8c8a5ee9",
   "metadata": {},
   "outputs": [
    {
     "name": "stdout",
     "output_type": "stream",
     "text": [
      "<class 'pandas.core.frame.DataFrame'>\n",
      "RangeIndex: 48415 entries, 0 to 48414\n",
      "Data columns (total 2 columns):\n",
      " #   Column   Non-Null Count  Dtype \n",
      "---  ------   --------------  ----- \n",
      " 0   content  48415 non-null  object\n",
      " 1   label    48415 non-null  object\n",
      "dtypes: object(2)\n",
      "memory usage: 756.6+ KB\n"
     ]
    }
   ],
   "source": [
    "complete_news.info()"
   ]
  },
  {
   "cell_type": "code",
   "execution_count": 371,
   "id": "c44c597a",
   "metadata": {},
   "outputs": [
    {
     "data": {
      "text/plain": [
       "Fake    25133\n",
       "Real    23282\n",
       "Name: label, dtype: int64"
      ]
     },
     "execution_count": 371,
     "metadata": {},
     "output_type": "execute_result"
    }
   ],
   "source": [
    "complete_news['label'].value_counts()"
   ]
  },
  {
   "cell_type": "code",
   "execution_count": 372,
   "id": "1d11ad27",
   "metadata": {},
   "outputs": [],
   "source": [
    "label_converter = {1:'Real', 0:'Fake'}\n",
    "\n",
    "complete_news = complete_news.replace({'label' : label_converter})"
   ]
  },
  {
   "cell_type": "code",
   "execution_count": 373,
   "id": "ee01be64",
   "metadata": {},
   "outputs": [],
   "source": [
    "X = complete_news['content']"
   ]
  },
  {
   "cell_type": "code",
   "execution_count": 374,
   "id": "5ff6ce35",
   "metadata": {},
   "outputs": [
    {
     "data": {
      "text/plain": [
       "(48415,)"
      ]
     },
     "execution_count": 374,
     "metadata": {},
     "output_type": "execute_result"
    }
   ],
   "source": [
    "X.shape"
   ]
  },
  {
   "cell_type": "code",
   "execution_count": 375,
   "id": "7ac00944",
   "metadata": {},
   "outputs": [],
   "source": [
    "y = complete_news['label']"
   ]
  },
  {
   "cell_type": "code",
   "execution_count": 376,
   "id": "8d5198ab",
   "metadata": {},
   "outputs": [
    {
     "data": {
      "text/plain": [
       "(48415,)"
      ]
     },
     "execution_count": 376,
     "metadata": {},
     "output_type": "execute_result"
    }
   ],
   "source": [
    "y.shape"
   ]
  },
  {
   "cell_type": "code",
   "execution_count": 377,
   "id": "39a97b8a",
   "metadata": {},
   "outputs": [],
   "source": [
    "X_train, X_test, y_train, y_test = train_test_split(X, y, test_size = 0.3, random_state = 40)"
   ]
  },
  {
   "cell_type": "code",
   "execution_count": 378,
   "id": "0d2cdd2e",
   "metadata": {},
   "outputs": [],
   "source": [
    "tfidf_train = tfidf.fit_transform(X_train.astype('U')) \n",
    "\n",
    "tfidf_test = tfidf.transform(X_test.astype('U'))"
   ]
  },
  {
   "cell_type": "code",
   "execution_count": 379,
   "id": "fff7384b",
   "metadata": {},
   "outputs": [
    {
     "data": {
      "text/plain": [
       "PassiveAggressiveClassifier(max_iter=150)"
      ]
     },
     "execution_count": 379,
     "metadata": {},
     "output_type": "execute_result"
    }
   ],
   "source": [
    "pac = PassiveAggressiveClassifier(max_iter = 150, shuffle = True)\n",
    "\n",
    "pac.fit(tfidf_train,y_train)"
   ]
  },
  {
   "cell_type": "code",
   "execution_count": 380,
   "id": "c39e6ab7",
   "metadata": {},
   "outputs": [
    {
     "name": "stdout",
     "output_type": "stream",
     "text": [
      "Accuracy: 99.26%\n"
     ]
    }
   ],
   "source": [
    "y_pred = pac.predict(tfidf_test)\n",
    "\n",
    "score = accuracy_score(y_test, y_pred)\n",
    "\n",
    "print('Accuracy: ' + str(round(score*100,2)) + '%')"
   ]
  },
  {
   "cell_type": "code",
   "execution_count": 381,
   "id": "df6f9866",
   "metadata": {},
   "outputs": [
    {
     "data": {
      "text/plain": [
       "array([[7471,   49],\n",
       "       [  59, 6946]])"
      ]
     },
     "execution_count": 381,
     "metadata": {},
     "output_type": "execute_result"
    }
   ],
   "source": [
    "confusion_matrix(y_test,y_pred, labels=['Fake','Real'])"
   ]
  },
  {
   "cell_type": "code",
   "execution_count": 382,
   "id": "7d22bae2",
   "metadata": {},
   "outputs": [
    {
     "data": {
      "image/png": "[encoded data removed]",
      "text/plain": [
       "<Figure size 432x288 with 2 Axes>"
      ]
     },
     "metadata": {
      "needs_background": "light"
     },
     "output_type": "display_data"
    }
   ],
   "source": [
    "classification = pac.fit(tfidf_train,y_train)\n",
    "\n",
    "accuracy_score(y_test, y_pred)\n",
    "confusion_matrix(y_test, y_pred)\n",
    "plot_confusion_matrix(classification, tfidf_test, y_test)\n",
    "plt.show();"
   ]
  },
  {
   "cell_type": "markdown",
   "id": "35d82126",
   "metadata": {},
   "source": [
    "### Final test with random data\n",
    "\n",
    "Now we run a final test with a independent and mixed data set, partially from Kaggle, partially from our own scraping efforts."
   ]
  },
  {
   "cell_type": "code",
   "execution_count": 383,
   "id": "6565dde2",
   "metadata": {},
   "outputs": [],
   "source": [
    "test = pd.read_csv('test_bilingual.csv')"
   ]
  },
  {
   "cell_type": "code",
   "execution_count": 384,
   "id": "72896216",
   "metadata": {},
   "outputs": [
    {
     "data": {
      "text/html": [
       "<div>\n",
       "<style scoped>\n",
       "    .dataframe tbody tr th:only-of-type {\n",
       "        vertical-align: middle;\n",
       "    }\n",
       "\n",
       "    .dataframe tbody tr th {\n",
       "        vertical-align: top;\n",
       "    }\n",
       "\n",
       "    .dataframe thead th {\n",
       "        text-align: right;\n",
       "    }\n",
       "</style>\n",
       "<table border=\"1\" class=\"dataframe\">\n",
       "  <thead>\n",
       "    <tr style=\"text-align: right;\">\n",
       "      <th></th>\n",
       "      <th>title</th>\n",
       "      <th>content</th>\n",
       "      <th>label</th>\n",
       "    </tr>\n",
       "  </thead>\n",
       "  <tbody>\n",
       "    <tr>\n",
       "      <th>0</th>\n",
       "      <td>Kleine Hufeisennase Rückkehr Kanton Luzern: We...</td>\n",
       "      <td>Seit 1988 konnte Kleinen Hufeisennase Kolonie ...</td>\n",
       "      <td>Real</td>\n",
       "    </tr>\n",
       "    <tr>\n",
       "      <th>1</th>\n",
       "      <td>Zerstörter Salat verfaulte Kirschen: Lage Land...</td>\n",
       "      <td>Die ausserordentlichen Regenfälle führen Engpa...</td>\n",
       "      <td>Real</td>\n",
       "    </tr>\n",
       "    <tr>\n",
       "      <th>2</th>\n",
       "      <td>Stefan Küng verpasst 0,40 Sekunden Bronze sagt...</td>\n",
       "      <td>Der Medaillentraum Stefan Küng platzt Zeitfahr...</td>\n",
       "      <td>Real</td>\n",
       "    </tr>\n",
       "    <tr>\n",
       "      <th>3</th>\n",
       "      <td>Boom fahrenden Hotelzimmer: Luzerner Wohnmobil...</td>\n",
       "      <td>Flugreisen immer unsicher, Quarantäneregeln än...</td>\n",
       "      <td>Real</td>\n",
       "    </tr>\n",
       "    <tr>\n",
       "      <th>4</th>\n",
       "      <td>Nächster Knall! Alex Wilson verpasst Olympisch...</td>\n",
       "      <td>Nach Kariem Hussein verpasst Alex Wilson weite...</td>\n",
       "      <td>Real</td>\n",
       "    </tr>\n",
       "  </tbody>\n",
       "</table>\n",
       "</div>"
      ],
      "text/plain": [
       "                                               title  \\\n",
       "0  Kleine Hufeisennase Rückkehr Kanton Luzern: We...   \n",
       "1  Zerstörter Salat verfaulte Kirschen: Lage Land...   \n",
       "2  Stefan Küng verpasst 0,40 Sekunden Bronze sagt...   \n",
       "3  Boom fahrenden Hotelzimmer: Luzerner Wohnmobil...   \n",
       "4  Nächster Knall! Alex Wilson verpasst Olympisch...   \n",
       "\n",
       "                                             content label  \n",
       "0  Seit 1988 konnte Kleinen Hufeisennase Kolonie ...  Real  \n",
       "1  Die ausserordentlichen Regenfälle führen Engpa...  Real  \n",
       "2  Der Medaillentraum Stefan Küng platzt Zeitfahr...  Real  \n",
       "3  Flugreisen immer unsicher, Quarantäneregeln än...  Real  \n",
       "4  Nach Kariem Hussein verpasst Alex Wilson weite...  Real  "
      ]
     },
     "execution_count": 384,
     "metadata": {},
     "output_type": "execute_result"
    }
   ],
   "source": [
    "test.head()"
   ]
  },
  {
   "cell_type": "code",
   "execution_count": 385,
   "id": "4ba3c653",
   "metadata": {},
   "outputs": [
    {
     "data": {
      "text/html": [
       "<div>\n",
       "<style scoped>\n",
       "    .dataframe tbody tr th:only-of-type {\n",
       "        vertical-align: middle;\n",
       "    }\n",
       "\n",
       "    .dataframe tbody tr th {\n",
       "        vertical-align: top;\n",
       "    }\n",
       "\n",
       "    .dataframe thead th {\n",
       "        text-align: right;\n",
       "    }\n",
       "</style>\n",
       "<table border=\"1\" class=\"dataframe\">\n",
       "  <thead>\n",
       "    <tr style=\"text-align: right;\">\n",
       "      <th></th>\n",
       "      <th>content</th>\n",
       "      <th>label</th>\n",
       "    </tr>\n",
       "  </thead>\n",
       "  <tbody>\n",
       "    <tr>\n",
       "      <th>0</th>\n",
       "      <td>Seit 1988 konnte Kleinen Hufeisennase Kolonie ...</td>\n",
       "      <td>Real</td>\n",
       "    </tr>\n",
       "    <tr>\n",
       "      <th>1</th>\n",
       "      <td>Die ausserordentlichen Regenfälle führen Engpa...</td>\n",
       "      <td>Real</td>\n",
       "    </tr>\n",
       "    <tr>\n",
       "      <th>2</th>\n",
       "      <td>Der Medaillentraum Stefan Küng platzt Zeitfahr...</td>\n",
       "      <td>Real</td>\n",
       "    </tr>\n",
       "    <tr>\n",
       "      <th>3</th>\n",
       "      <td>Flugreisen immer unsicher, Quarantäneregeln än...</td>\n",
       "      <td>Real</td>\n",
       "    </tr>\n",
       "    <tr>\n",
       "      <th>4</th>\n",
       "      <td>Nach Kariem Hussein verpasst Alex Wilson weite...</td>\n",
       "      <td>Real</td>\n",
       "    </tr>\n",
       "  </tbody>\n",
       "</table>\n",
       "</div>"
      ],
      "text/plain": [
       "                                             content label\n",
       "0  Seit 1988 konnte Kleinen Hufeisennase Kolonie ...  Real\n",
       "1  Die ausserordentlichen Regenfälle führen Engpa...  Real\n",
       "2  Der Medaillentraum Stefan Küng platzt Zeitfahr...  Real\n",
       "3  Flugreisen immer unsicher, Quarantäneregeln än...  Real\n",
       "4  Nach Kariem Hussein verpasst Alex Wilson weite...  Real"
      ]
     },
     "execution_count": 385,
     "metadata": {},
     "output_type": "execute_result"
    }
   ],
   "source": [
    "test = test[['content', 'label']]\n",
    "test.head()"
   ]
  },
  {
   "cell_type": "code",
   "execution_count": 386,
   "id": "2af4ed48",
   "metadata": {},
   "outputs": [],
   "source": [
    "label_converter = {True:'Real', False:'Fake'}\n",
    "\n",
    "test = test.replace({'label' : label_converter})"
   ]
  },
  {
   "cell_type": "code",
   "execution_count": 387,
   "id": "d378b19b",
   "metadata": {},
   "outputs": [
    {
     "data": {
      "text/html": [
       "<div>\n",
       "<style scoped>\n",
       "    .dataframe tbody tr th:only-of-type {\n",
       "        vertical-align: middle;\n",
       "    }\n",
       "\n",
       "    .dataframe tbody tr th {\n",
       "        vertical-align: top;\n",
       "    }\n",
       "\n",
       "    .dataframe thead th {\n",
       "        text-align: right;\n",
       "    }\n",
       "</style>\n",
       "<table border=\"1\" class=\"dataframe\">\n",
       "  <thead>\n",
       "    <tr style=\"text-align: right;\">\n",
       "      <th></th>\n",
       "      <th>content</th>\n",
       "      <th>label</th>\n",
       "    </tr>\n",
       "  </thead>\n",
       "  <tbody>\n",
       "    <tr>\n",
       "      <th>0</th>\n",
       "      <td>Seit 1988 konnte Kleinen Hufeisennase Kolonie ...</td>\n",
       "      <td>Real</td>\n",
       "    </tr>\n",
       "    <tr>\n",
       "      <th>1</th>\n",
       "      <td>Die ausserordentlichen Regenfälle führen Engpa...</td>\n",
       "      <td>Real</td>\n",
       "    </tr>\n",
       "    <tr>\n",
       "      <th>2</th>\n",
       "      <td>Der Medaillentraum Stefan Küng platzt Zeitfahr...</td>\n",
       "      <td>Real</td>\n",
       "    </tr>\n",
       "    <tr>\n",
       "      <th>3</th>\n",
       "      <td>Flugreisen immer unsicher, Quarantäneregeln än...</td>\n",
       "      <td>Real</td>\n",
       "    </tr>\n",
       "    <tr>\n",
       "      <th>4</th>\n",
       "      <td>Nach Kariem Hussein verpasst Alex Wilson weite...</td>\n",
       "      <td>Real</td>\n",
       "    </tr>\n",
       "  </tbody>\n",
       "</table>\n",
       "</div>"
      ],
      "text/plain": [
       "                                             content label\n",
       "0  Seit 1988 konnte Kleinen Hufeisennase Kolonie ...  Real\n",
       "1  Die ausserordentlichen Regenfälle führen Engpa...  Real\n",
       "2  Der Medaillentraum Stefan Küng platzt Zeitfahr...  Real\n",
       "3  Flugreisen immer unsicher, Quarantäneregeln än...  Real\n",
       "4  Nach Kariem Hussein verpasst Alex Wilson weite...  Real"
      ]
     },
     "execution_count": 387,
     "metadata": {},
     "output_type": "execute_result"
    }
   ],
   "source": [
    "test.head()"
   ]
  },
  {
   "cell_type": "code",
   "execution_count": 388,
   "id": "b6bd4232",
   "metadata": {},
   "outputs": [],
   "source": [
    "X_test = test['content']"
   ]
  },
  {
   "cell_type": "code",
   "execution_count": 389,
   "id": "d1298d4c",
   "metadata": {},
   "outputs": [
    {
     "data": {
      "text/plain": [
       "(4230,)"
      ]
     },
     "execution_count": 389,
     "metadata": {},
     "output_type": "execute_result"
    }
   ],
   "source": [
    "X_test.shape"
   ]
  },
  {
   "cell_type": "code",
   "execution_count": 390,
   "id": "16c7a6d7",
   "metadata": {},
   "outputs": [],
   "source": [
    "y_test = test['label']"
   ]
  },
  {
   "cell_type": "code",
   "execution_count": 391,
   "id": "dae612ac",
   "metadata": {},
   "outputs": [
    {
     "data": {
      "text/plain": [
       "(4230,)"
      ]
     },
     "execution_count": 391,
     "metadata": {},
     "output_type": "execute_result"
    }
   ],
   "source": [
    "y_test.shape"
   ]
  },
  {
   "cell_type": "code",
   "execution_count": 392,
   "id": "3feca314",
   "metadata": {},
   "outputs": [],
   "source": [
    "tfidf_test = tfidf.transform(X_test.astype('U'))"
   ]
  },
  {
   "cell_type": "code",
   "execution_count": 393,
   "id": "ae02af5e",
   "metadata": {},
   "outputs": [
    {
     "name": "stdout",
     "output_type": "stream",
     "text": [
      "Accuracy: 71.37%\n"
     ]
    }
   ],
   "source": [
    "y_pred = pac.predict(tfidf_test)\n",
    "\n",
    "score = accuracy_score(y_test, y_pred)\n",
    "\n",
    "print('Accuracy: ' + str(round(score*100,2)) + '%')"
   ]
  },
  {
   "cell_type": "markdown",
   "id": "9025b5f9",
   "metadata": {},
   "source": [
    "So, the accuracy actually drops over 20% for an independent data set, but nonetheless we still have quite a strong score with 71.37%."
   ]
  },
  {
   "cell_type": "code",
   "execution_count": 394,
   "id": "cc420d9b",
   "metadata": {},
   "outputs": [
    {
     "data": {
      "image/png": "[encoded data removed]",
      "text/plain": [
       "<Figure size 432x288 with 2 Axes>"
      ]
     },
     "metadata": {
      "needs_background": "light"
     },
     "output_type": "display_data"
    }
   ],
   "source": [
    "classification = pac.fit(tfidf_train,y_train)\n",
    "\n",
    "accuracy_score(y_test, y_pred)\n",
    "confusion_matrix(y_test, y_pred)\n",
    "plot_confusion_matrix(classification, tfidf_test, y_test)\n",
    "plt.show();"
   ]
  }
 ],
 "metadata": {
  "kernelspec": {
   "display_name": "Python 3",
   "language": "python",
   "name": "python3"
  },
  "language_info": {
   "codemirror_mode": {
    "name": "ipython",
    "version": 3
   },
   "file_extension": ".py",
   "mimetype": "text/x-python",
   "name": "python",
   "nbconvert_exporter": "python",
   "pygments_lexer": "ipython3",
   "version": "3.8.8"
  }
 },
 "nbformat": 4,
 "nbformat_minor": 5
}
